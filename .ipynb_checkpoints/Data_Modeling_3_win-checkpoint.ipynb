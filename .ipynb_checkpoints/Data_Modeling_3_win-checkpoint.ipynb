{
 "cells": [
  {
   "cell_type": "code",
   "execution_count": 12,
   "metadata": {},
   "outputs": [],
   "source": [
    "import pandas as pd\n",
    "from sklearn.model_selection import train_test_split,GridSearchCV\n",
    "from sklearn.linear_model import LogisticRegression\n",
    "from sklearn.pipeline import Pipeline\n",
    "import matplotlib.pyplot as plt\n",
    "from sklearn.ensemble import RandomForestClassifier,GradientBoostingClassifier,AdaBoostClassifier,VotingClassifier\n",
    "from sklearn.naive_bayes import BernoulliNB\n",
    "from sklearn.svm import SVC\n",
    "from keras.models import Sequential\n",
    "from keras.layers import Dense\n",
    "import time"
   ]
  },
  {
   "cell_type": "markdown",
   "metadata": {},
   "source": [
    "### Preparation"
   ]
  },
  {
   "cell_type": "code",
   "execution_count": 3,
   "metadata": {},
   "outputs": [],
   "source": [
    "try: \n",
    "    df = pd.read_csv('./model_data/model_data.csv')\n",
    "except:\n",
    "    df = pd.read_csv('https://dl.dropboxusercontent.com/s/c8d0aqt0skyk5pa/model_data.csv?dl=0')"
   ]
  },
  {
   "cell_type": "code",
   "execution_count": 4,
   "metadata": {},
   "outputs": [],
   "source": [
    "X = df.drop(columns='win_blue')\n",
    "y = df['win_blue']\n",
    "X_train,X_test,y_train,y_test = train_test_split(X,y,random_state=8)"
   ]
  },
  {
   "cell_type": "markdown",
   "metadata": {},
   "source": [
    "---\n",
    "# Modeling:\n",
    "---"
   ]
  },
  {
   "cell_type": "markdown",
   "metadata": {},
   "source": [
    "### Logistic Regression"
   ]
  },
  {
   "cell_type": "code",
   "execution_count": 75,
   "metadata": {},
   "outputs": [
    {
     "name": "stderr",
     "output_type": "stream",
     "text": [
      "/Users/macchan/opt/anaconda3/lib/python3.7/site-packages/sklearn/model_selection/_validation.py:536: FitFailedWarning: Estimator fit failed. The score on this train-test partition for these parameters will be set to nan. Details: \n",
      "ValueError: Only 'saga' solver supports elasticnet penalty, got solver=liblinear.\n",
      "\n",
      "  FitFailedWarning)\n"
     ]
    },
    {
     "data": {
      "text/plain": [
       "GridSearchCV(cv=5, error_score=nan,\n",
       "             estimator=Pipeline(memory=None,\n",
       "                                steps=[('lr',\n",
       "                                        LogisticRegression(C=1.0,\n",
       "                                                           class_weight=None,\n",
       "                                                           dual=False,\n",
       "                                                           fit_intercept=True,\n",
       "                                                           intercept_scaling=1,\n",
       "                                                           l1_ratio=None,\n",
       "                                                           max_iter=100,\n",
       "                                                           multi_class='auto',\n",
       "                                                           n_jobs=None,\n",
       "                                                           penalty='l2',\n",
       "                                                           random_state=None,\n",
       "                                                           solver='liblinear',\n",
       "                                                           tol=0.0001,\n",
       "                                                           verbose=0,\n",
       "                                                           warm_start=False))],\n",
       "                                verbose=False),\n",
       "             iid='deprecated', n_jobs=None,\n",
       "             param_grid={'lr__penalty': ['l1', 'l2', 'elasticnet']},\n",
       "             pre_dispatch='2*n_jobs', refit=True, return_train_score=False,\n",
       "             scoring=None, verbose=0)"
      ]
     },
     "execution_count": 75,
     "metadata": {},
     "output_type": "execute_result"
    }
   ],
   "source": [
    "pipe = Pipeline([\n",
    "    ('lr',LogisticRegression(solver='liblinear'))\n",
    "])\n",
    "\n",
    "param = {\n",
    "    'lr__penalty':['l1','l2','elasticnet']\n",
    "}\n",
    "\n",
    "gs = GridSearchCV(pipe,param,cv=5)\n",
    "gs.fit(X_train,y_train)"
   ]
  },
  {
   "cell_type": "code",
   "execution_count": 76,
   "metadata": {},
   "outputs": [
    {
     "data": {
      "text/plain": [
       "0.802927075447893"
      ]
     },
     "execution_count": 76,
     "metadata": {},
     "output_type": "execute_result"
    }
   ],
   "source": [
    "gs.score(X_test,y_test)"
   ]
  },
  {
   "cell_type": "code",
   "execution_count": 77,
   "metadata": {},
   "outputs": [
    {
     "data": {
      "text/plain": [
       "{'lr__penalty': 'l2'}"
      ]
     },
     "execution_count": 77,
     "metadata": {},
     "output_type": "execute_result"
    }
   ],
   "source": [
    "gs.best_params_"
   ]
  },
  {
   "cell_type": "code",
   "execution_count": 78,
   "metadata": {},
   "outputs": [
    {
     "data": {
      "image/png": "[encoded data removed]",
      "text/plain": [
       "<Figure size 720x504 with 1 Axes>"
      ]
     },
     "metadata": {
      "needs_background": "dark"
     },
     "output_type": "display_data"
    }
   ],
   "source": [
    "pred_proba = [i[1] for i in gs.best_estimator_.predict_proba(X_test)]\n",
    "pred_df = pd.DataFrame({'true_values': y_test,\n",
    "                        'pred_probs':pred_proba})\n",
    "# Create figure.\n",
    "plt.figure(figsize = (10,7))\n",
    "\n",
    "# Create two histograms of observations.\n",
    "plt.hist(pred_df[pred_df['true_values'] == 0]['pred_probs'],\n",
    "         bins = 25,\n",
    "         color = 'r',\n",
    "         alpha = 0.6,\n",
    "         label = 'Outcome = Red')\n",
    "plt.hist(pred_df[pred_df['true_values'] == 1]['pred_probs'],\n",
    "         bins = 25,\n",
    "         color = 'b',\n",
    "         alpha = 0.6,\n",
    "         label = 'Outcome = Blue')\n",
    "plt.vlines(x=.5,\n",
    "          ymin=0,\n",
    "          ymax=25,\n",
    "          color='grey',\n",
    "          linestyle='dashdot')\n",
    "\n",
    "# Label axes.\n",
    "plt.title('Distribution of P(Outcome = Blue win)', fontsize = 22,color='white')\n",
    "plt.ylabel('Frequency', fontsize = 18,color='white')\n",
    "plt.xlabel('Predicted Probability that Outcome = Blue win', fontsize = 18,color = 'white')\n",
    "plt.tick_params(axis='x', colors='white')\n",
    "plt.tick_params(axis='y', colors='white')\n",
    "# Create legend.\n",
    "plt.legend(fontsize = 20);\n",
    "#Thank you Matt for the code from our lecture!\n",
    "#plt.savefig('log_plot.png');"
   ]
  },
  {
   "cell_type": "markdown",
   "metadata": {},
   "source": [
    "### Random Forest"
   ]
  },
  {
   "cell_type": "code",
   "execution_count": 88,
   "metadata": {},
   "outputs": [
    {
     "data": {
      "text/plain": [
       "GridSearchCV(cv=5, error_score=nan,\n",
       "             estimator=Pipeline(memory=None,\n",
       "                                steps=[('rf',\n",
       "                                        RandomForestClassifier(bootstrap=True,\n",
       "                                                               ccp_alpha=0.0,\n",
       "                                                               class_weight=None,\n",
       "                                                               criterion='gini',\n",
       "                                                               max_depth=None,\n",
       "                                                               max_features='auto',\n",
       "                                                               max_leaf_nodes=None,\n",
       "                                                               max_samples=None,\n",
       "                                                               min_impurity_decrease=0.0,\n",
       "                                                               min_impurity_split=None,\n",
       "                                                               min_samples_leaf=1,\n",
       "                                                               min_samples_split=2,\n",
       "                                                               min_weight_fraction_leaf=0.0,\n",
       "                                                               n_estimators=100,\n",
       "                                                               n_jobs=None,\n",
       "                                                               oob_score=False,\n",
       "                                                               random_state=None,\n",
       "                                                               verbose=0,\n",
       "                                                               warm_start=False))],\n",
       "                                verbose=False),\n",
       "             iid='deprecated', n_jobs=None,\n",
       "             param_grid={'rf__max_depth': [20, 10],\n",
       "                         'rf__max_features': [None, 'auto'],\n",
       "                         'rf__n_estimators': [1, 100]},\n",
       "             pre_dispatch='2*n_jobs', refit=True, return_train_score=False,\n",
       "             scoring=None, verbose=0)"
      ]
     },
     "execution_count": 88,
     "metadata": {},
     "output_type": "execute_result"
    }
   ],
   "source": [
    "pipe = Pipeline([\n",
    "    ('rf',RandomForestClassifier())\n",
    "])\n",
    "pipe_params = {\n",
    "    'rf__n_estimators':[1,100],\n",
    "    'rf__max_features':[None,'auto'],\n",
    "    'rf__max_depth':[20,10]\n",
    "}\n",
    "gs = GridSearchCV(pipe,pipe_params,cv=5)\n",
    "gs.fit(X_train,y_train)"
   ]
  },
  {
   "cell_type": "code",
   "execution_count": 89,
   "metadata": {},
   "outputs": [
    {
     "data": {
      "text/plain": [
       "0.8882159979813273"
      ]
     },
     "execution_count": 89,
     "metadata": {},
     "output_type": "execute_result"
    }
   ],
   "source": [
    "gs.score(X_test,y_test)"
   ]
  },
  {
   "cell_type": "code",
   "execution_count": 90,
   "metadata": {},
   "outputs": [
    {
     "data": {
      "text/plain": [
       "{'rf__max_depth': 20, 'rf__max_features': 'auto', 'rf__n_estimators': 100}"
      ]
     },
     "execution_count": 90,
     "metadata": {},
     "output_type": "execute_result"
    }
   ],
   "source": [
    "gs.best_params_"
   ]
  },
  {
   "cell_type": "code",
   "execution_count": 91,
   "metadata": {},
   "outputs": [
    {
     "data": {
      "image/png": "[encoded data removed]",
      "text/plain": [
       "<Figure size 720x504 with 1 Axes>"
      ]
     },
     "metadata": {
      "needs_background": "dark"
     },
     "output_type": "display_data"
    }
   ],
   "source": [
    "pred_proba = [i[1] for i in gs.best_estimator_.predict_proba(X_test)]\n",
    "pred_df = pd.DataFrame({'true_values': y_test,\n",
    "                        'pred_probs':pred_proba})\n",
    "# Create figure.\n",
    "plt.figure(figsize = (10,7))\n",
    "\n",
    "# Create two histograms of observations.\n",
    "plt.hist(pred_df[pred_df['true_values'] == 0]['pred_probs'],\n",
    "         bins = 25,\n",
    "         color = 'r',\n",
    "         alpha = 0.6,\n",
    "         label = 'Outcome = Red')\n",
    "plt.hist(pred_df[pred_df['true_values'] == 1]['pred_probs'],\n",
    "         bins = 25,\n",
    "         color = 'b',\n",
    "         alpha = 0.6,\n",
    "         label = 'Outcome = Blue')\n",
    "plt.vlines(x=.5,\n",
    "          ymin=0,\n",
    "          ymax=25,\n",
    "          color='grey',\n",
    "          linestyle='dashdot')\n",
    "\n",
    "# Label axes.\n",
    "plt.title('Distribution of P(Outcome = Blue win)', fontsize = 22,color='white')\n",
    "plt.ylabel('Frequency', fontsize = 18,color='white')\n",
    "plt.xlabel('Predicted Probability that Outcome = Blue win', fontsize = 18,color = 'white')\n",
    "plt.tick_params(axis='x', colors='white')\n",
    "plt.tick_params(axis='y', colors='white')\n",
    "# Create legend.\n",
    "plt.legend(fontsize = 20);\n",
    "#Thank you Matt for the code from our lecture!\n",
    "#plt.savefig('log_plot.png');"
   ]
  },
  {
   "cell_type": "markdown",
   "metadata": {},
   "source": [
    "### Bernoulli NB"
   ]
  },
  {
   "cell_type": "code",
   "execution_count": 81,
   "metadata": {},
   "outputs": [
    {
     "data": {
      "text/plain": [
       "GridSearchCV(cv=5, error_score=nan,\n",
       "             estimator=Pipeline(memory=None,\n",
       "                                steps=[('bnb',\n",
       "                                        BernoulliNB(alpha=1.0, binarize=0.0,\n",
       "                                                    class_prior=None,\n",
       "                                                    fit_prior=True))],\n",
       "                                verbose=False),\n",
       "             iid='deprecated', n_jobs=None, param_grid={},\n",
       "             pre_dispatch='2*n_jobs', refit=True, return_train_score=False,\n",
       "             scoring=None, verbose=0)"
      ]
     },
     "execution_count": 81,
     "metadata": {},
     "output_type": "execute_result"
    }
   ],
   "source": [
    "pipe = Pipeline([\n",
    "    ('bnb',BernoulliNB())\n",
    "])\n",
    "pipe_params = {\n",
    "    \n",
    "}\n",
    "gs = GridSearchCV(pipe,pipe_params,cv=5)\n",
    "gs.fit(X_train,y_train)"
   ]
  },
  {
   "cell_type": "code",
   "execution_count": 82,
   "metadata": {},
   "outputs": [
    {
     "data": {
      "text/plain": [
       "0.674741357557406"
      ]
     },
     "execution_count": 82,
     "metadata": {},
     "output_type": "execute_result"
    }
   ],
   "source": [
    "gs.score(X_test,y_test)"
   ]
  },
  {
   "cell_type": "code",
   "execution_count": 83,
   "metadata": {},
   "outputs": [
    {
     "data": {
      "image/png": "[encoded data removed]",
      "text/plain": [
       "<Figure size 720x504 with 1 Axes>"
      ]
     },
     "metadata": {
      "needs_background": "dark"
     },
     "output_type": "display_data"
    }
   ],
   "source": [
    "pred_proba = [i[1] for i in gs.best_estimator_.predict_proba(X_test)]\n",
    "pred_df = pd.DataFrame({'true_values': y_test,\n",
    "                        'pred_probs':pred_proba})\n",
    "# Create figure.\n",
    "plt.figure(figsize = (10,7))\n",
    "\n",
    "# Create two histograms of observations.\n",
    "plt.hist(pred_df[pred_df['true_values'] == 0]['pred_probs'],\n",
    "         bins = 25,\n",
    "         color = 'r',\n",
    "         alpha = 0.6,\n",
    "         label = 'Outcome = Red')\n",
    "plt.hist(pred_df[pred_df['true_values'] == 1]['pred_probs'],\n",
    "         bins = 25,\n",
    "         color = 'b',\n",
    "         alpha = 0.6,\n",
    "         label = 'Outcome = Blue')\n",
    "plt.vlines(x=.5,\n",
    "          ymin=0,\n",
    "          ymax=25,\n",
    "          color='grey',\n",
    "          linestyle='dashdot')\n",
    "\n",
    "# Label axes.\n",
    "plt.title('Distribution of P(Outcome = Blue win)', fontsize = 22,color='white')\n",
    "plt.ylabel('Frequency', fontsize = 18,color='white')\n",
    "plt.xlabel('Predicted Probability that Outcome = Blue win', fontsize = 18,color = 'white')\n",
    "plt.tick_params(axis='x', colors='white')\n",
    "plt.tick_params(axis='y', colors='white')\n",
    "# Create legend.\n",
    "plt.legend(fontsize = 20);\n",
    "#Thank you Matt for the code from our lecture!\n",
    "#plt.savefig('log_plot.png');"
   ]
  },
  {
   "cell_type": "markdown",
   "metadata": {},
   "source": [
    "### SVM"
   ]
  },
  {
   "cell_type": "code",
   "execution_count": 5,
   "metadata": {},
   "outputs": [
    {
     "data": {
      "text/plain": [
       "0.8783749684582387"
      ]
     },
     "execution_count": 5,
     "metadata": {},
     "output_type": "execute_result"
    }
   ],
   "source": [
    "svc = SVC()\n",
    "gs = svc.fit(X_train,y_train)\n",
    "gs.score(X_test,y_test)"
   ]
  },
  {
   "cell_type": "markdown",
   "metadata": {},
   "source": [
    "### Boosting our best model: RandomForest"
   ]
  },
  {
   "cell_type": "code",
   "execution_count": 4,
   "metadata": {},
   "outputs": [
    {
     "name": "stdout",
     "output_type": "stream",
     "text": [
      "0.8437657748611812\n"
     ]
    },
    {
     "data": {
      "text/plain": [
       "{'grad_boost__max_depth': 10,\n",
       " 'grad_boost__n_estimators': 300,\n",
       " 'rf__max_depth': 20,\n",
       " 'rf_pipe__rf__n_estimators': 100}"
      ]
     },
     "execution_count": 4,
     "metadata": {},
     "output_type": "execute_result"
    }
   ],
   "source": [
    "rf_pipe = Pipeline([\n",
    "    ('rf', RandomForestClassifier())\n",
    "])\n",
    "vote = VotingClassifier([\n",
    "    ('ada', AdaBoostClassifier()),\n",
    "    ('grad_boost', GradientBoostingClassifier()),\n",
    "    ('rf', RandomForestClassifier()),\n",
    "    ('rf_pipe', rf_pipe)\n",
    "])\n",
    "vote_params = {\n",
    "    'grad_boost__max_depth': [3,10,20],\n",
    "    'grad_boost__n_estimators':[300],\n",
    "    'rf__max_depth': [20],\n",
    "    'rf_pipe__rf__n_estimators': [100]\n",
    "}\n",
    "gs = GridSearchCV(vote, param_grid=vote_params, cv=3)\n",
    "gs.fit(X_train, y_train)\n",
    "print(gs.best_score_)\n",
    "gs.best_params_"
   ]
  },
  {
   "cell_type": "code",
   "execution_count": 5,
   "metadata": {},
   "outputs": [
    {
     "data": {
      "text/plain": [
       "0.8884683320716629"
      ]
     },
     "execution_count": 5,
     "metadata": {},
     "output_type": "execute_result"
    }
   ],
   "source": [
    "gs.best_estimator_.score(X_test,y_test)"
   ]
  },
  {
   "cell_type": "markdown",
   "metadata": {},
   "source": [
    "### Neural Network"
   ]
  },
  {
   "cell_type": "code",
   "execution_count": 5,
   "metadata": {},
   "outputs": [
    {
     "name": "stdout",
     "output_type": "stream",
     "text": [
      "Train on 11886 samples, validate on 3963 samples\n",
      "Epoch 1/20\n",
      " - 2s - loss: 0.6332 - acc: 0.6395 - val_loss: 0.5638 - val_acc: 0.7262\n",
      "Epoch 2/20\n",
      " - 2s - loss: 0.4633 - acc: 0.8088 - val_loss: 0.4675 - val_acc: 0.7921\n",
      "Epoch 3/20\n",
      " - 2s - loss: 0.3352 - acc: 0.8778 - val_loss: 0.4098 - val_acc: 0.8299\n",
      "Epoch 4/20\n",
      " - 2s - loss: 0.2431 - acc: 0.9199 - val_loss: 0.3687 - val_acc: 0.8486\n",
      "Epoch 5/20\n",
      " - 2s - loss: 0.1756 - acc: 0.9491 - val_loss: 0.3500 - val_acc: 0.8670\n",
      "Epoch 6/20\n",
      " - 2s - loss: 0.1268 - acc: 0.9682 - val_loss: 0.3489 - val_acc: 0.8728\n",
      "Epoch 7/20\n",
      " - 2s - loss: 0.0900 - acc: 0.9828 - val_loss: 0.3481 - val_acc: 0.8781\n",
      "Epoch 8/20\n",
      " - 2s - loss: 0.0637 - acc: 0.9913 - val_loss: 0.3531 - val_acc: 0.8839\n",
      "Epoch 9/20\n",
      " - 2s - loss: 0.0443 - acc: 0.9956 - val_loss: 0.3632 - val_acc: 0.8859\n",
      "Epoch 10/20\n",
      " - 2s - loss: 0.0313 - acc: 0.9976 - val_loss: 0.3803 - val_acc: 0.8849\n",
      "Epoch 11/20\n",
      " - 2s - loss: 0.0224 - acc: 0.9987 - val_loss: 0.3983 - val_acc: 0.8862\n",
      "Epoch 12/20\n",
      " - 2s - loss: 0.0165 - acc: 0.9988 - val_loss: 0.4175 - val_acc: 0.8844\n",
      "Epoch 13/20\n",
      " - 2s - loss: 0.0125 - acc: 0.9989 - val_loss: 0.4303 - val_acc: 0.8844\n",
      "Epoch 14/20\n",
      " - 2s - loss: 0.0099 - acc: 0.9991 - val_loss: 0.4467 - val_acc: 0.8827\n",
      "Epoch 15/20\n",
      " - 2s - loss: 0.0080 - acc: 0.9991 - val_loss: 0.4645 - val_acc: 0.8837\n",
      "Epoch 16/20\n",
      " - 2s - loss: 0.0065 - acc: 0.9991 - val_loss: 0.4834 - val_acc: 0.8847\n",
      "Epoch 17/20\n",
      " - 2s - loss: 0.0055 - acc: 0.9993 - val_loss: 0.5032 - val_acc: 0.8829\n",
      "Epoch 18/20\n",
      " - 2s - loss: 0.0047 - acc: 0.9992 - val_loss: 0.5195 - val_acc: 0.8844\n",
      "Epoch 19/20\n",
      " - 2s - loss: 0.0041 - acc: 0.9992 - val_loss: 0.5374 - val_acc: 0.8844\n",
      "Epoch 20/20\n",
      " - 2s - loss: 0.0035 - acc: 0.9994 - val_loss: 0.5502 - val_acc: 0.8844\n"
     ]
    }
   ],
   "source": [
    "model = Sequential()\n",
    "model.add(Dense(10,input_dim=X_train.shape[1],activation='relu'))\n",
    "model.add(Dense(1,activation='sigmoid'))\n",
    "model.compile(loss='binary_crossentropy',optimizer='adam',metrics=['acc'])\n",
    "history = model.fit(X_train,y_train,validation_data=(X_test,y_test),epochs=20,batch_size=None,verbose=2)"
   ]
  },
  {
   "cell_type": "code",
   "execution_count": 9,
   "metadata": {},
   "outputs": [
    {
     "data": {
      "text/plain": [
       "dict_keys(['val_loss', 'val_acc', 'loss', 'acc'])"
      ]
     },
     "execution_count": 9,
     "metadata": {},
     "output_type": "execute_result"
    }
   ],
   "source": [
    "history.history.keys()"
   ]
  },
  {
   "cell_type": "code",
   "execution_count": 10,
   "metadata": {},
   "outputs": [
    {
     "data": {
      "image/png": "[encoded data removed]",
      "text/plain": [
       "<Figure size 864x504 with 1 Axes>"
      ]
     },
     "metadata": {
      "needs_background": "dark"
     },
     "output_type": "display_data"
    }
   ],
   "source": [
    "plt.figure(figsize=(12,7))\n",
    "plt.title('Epoch accuracy', fontsize = 22,color='white')\n",
    "plt.ylabel('Accuracy', fontsize = 18,color='white')\n",
    "plt.xlabel('Epochs', fontsize = 18,color = 'white')\n",
    "plt.plot(history.history['acc'], label='training acc', color='b')\n",
    "plt.plot(history.history['val_acc'], label='testing acc', color='r')\n",
    "plt.tick_params(axis='x', colors='white')\n",
    "plt.tick_params(axis='y', colors='white')\n",
    "plt.legend();"
   ]
  },
  {
   "cell_type": "markdown",
   "metadata": {},
   "source": [
    "---\n",
    "# else"
   ]
  },
  {
   "cell_type": "code",
   "execution_count": 69,
   "metadata": {},
   "outputs": [],
   "source": [
    "coefficients = pd.DataFrame(zip(gs.best_estimator_.named_steps['lr'].coef_[0],df.columns),columns=['coef','feature'])"
   ]
  },
  {
   "cell_type": "code",
   "execution_count": 71,
   "metadata": {},
   "outputs": [
    {
     "data": {
      "text/html": [
       "<div>\n",
       "<style scoped>\n",
       "    .dataframe tbody tr th:only-of-type {\n",
       "        vertical-align: middle;\n",
       "    }\n",
       "\n",
       "    .dataframe tbody tr th {\n",
       "        vertical-align: top;\n",
       "    }\n",
       "\n",
       "    .dataframe thead th {\n",
       "        text-align: right;\n",
       "    }\n",
       "</style>\n",
       "<table border=\"1\" class=\"dataframe\">\n",
       "  <thead>\n",
       "    <tr style=\"text-align: right;\">\n",
       "      <th></th>\n",
       "      <th>coef</th>\n",
       "      <th>feature</th>\n",
       "    </tr>\n",
       "  </thead>\n",
       "  <tbody>\n",
       "    <tr>\n",
       "      <th>664</th>\n",
       "      <td>-2.639630</td>\n",
       "      <td>blue_5_Morgana</td>\n",
       "    </tr>\n",
       "    <tr>\n",
       "      <th>895</th>\n",
       "      <td>-2.261240</td>\n",
       "      <td>red_7_Aurelion Sol</td>\n",
       "    </tr>\n",
       "    <tr>\n",
       "      <th>1233</th>\n",
       "      <td>-2.104026</td>\n",
       "      <td>red_9_Kayle</td>\n",
       "    </tr>\n",
       "    <tr>\n",
       "      <th>106</th>\n",
       "      <td>-2.044092</td>\n",
       "      <td>blue_1_Sion</td>\n",
       "    </tr>\n",
       "    <tr>\n",
       "      <th>2289</th>\n",
       "      <td>-2.003166</td>\n",
       "      <td>blue_5_perk4_CosmicInsight</td>\n",
       "    </tr>\n",
       "  </tbody>\n",
       "</table>\n",
       "</div>"
      ],
      "text/plain": [
       "          coef                     feature\n",
       "664  -2.639630              blue_5_Morgana\n",
       "895  -2.261240          red_7_Aurelion Sol\n",
       "1233 -2.104026                 red_9_Kayle\n",
       "106  -2.044092                 blue_1_Sion\n",
       "2289 -2.003166  blue_5_perk4_CosmicInsight"
      ]
     },
     "execution_count": 71,
     "metadata": {},
     "output_type": "execute_result"
    }
   ],
   "source": [
    "coefficients.sort_values(by='coef').head(5)"
   ]
  },
  {
   "cell_type": "code",
   "execution_count": 72,
   "metadata": {},
   "outputs": [
    {
     "data": {
      "text/html": [
       "<div>\n",
       "<style scoped>\n",
       "    .dataframe tbody tr th:only-of-type {\n",
       "        vertical-align: middle;\n",
       "    }\n",
       "\n",
       "    .dataframe tbody tr th {\n",
       "        vertical-align: top;\n",
       "    }\n",
       "\n",
       "    .dataframe thead th {\n",
       "        text-align: right;\n",
       "    }\n",
       "</style>\n",
       "<table border=\"1\" class=\"dataframe\">\n",
       "  <thead>\n",
       "    <tr style=\"text-align: right;\">\n",
       "      <th></th>\n",
       "      <th>coef</th>\n",
       "      <th>feature</th>\n",
       "    </tr>\n",
       "  </thead>\n",
       "  <tbody>\n",
       "    <tr>\n",
       "      <th>2655</th>\n",
       "      <td>2.477024</td>\n",
       "      <td>blue_3_perk5_CheapShot</td>\n",
       "    </tr>\n",
       "    <tr>\n",
       "      <th>835</th>\n",
       "      <td>2.285611</td>\n",
       "      <td>red_6_Ryze</td>\n",
       "    </tr>\n",
       "    <tr>\n",
       "      <th>2844</th>\n",
       "      <td>2.166327</td>\n",
       "      <td>red_7_perk5_Demolish</td>\n",
       "    </tr>\n",
       "    <tr>\n",
       "      <th>593</th>\n",
       "      <td>2.101742</td>\n",
       "      <td>blue_5_Alistar</td>\n",
       "    </tr>\n",
       "    <tr>\n",
       "      <th>1238</th>\n",
       "      <td>2.061347</td>\n",
       "      <td>red_9_Kled</td>\n",
       "    </tr>\n",
       "  </tbody>\n",
       "</table>\n",
       "</div>"
      ],
      "text/plain": [
       "          coef                 feature\n",
       "2655  2.477024  blue_3_perk5_CheapShot\n",
       "835   2.285611              red_6_Ryze\n",
       "2844  2.166327    red_7_perk5_Demolish\n",
       "593   2.101742          blue_5_Alistar\n",
       "1238  2.061347              red_9_Kled"
      ]
     },
     "execution_count": 72,
     "metadata": {},
     "output_type": "execute_result"
    }
   ],
   "source": [
    "coefficients.sort_values(by='coef',ascending=False).head(5)"
   ]
  },
  {
   "cell_type": "code",
   "execution_count": 54,
   "metadata": {},
   "outputs": [
    {
     "data": {
      "text/plain": [
       "blue_1_Karthus                        1\n",
       "blue_1_perk0_DarkHarvest              1\n",
       "blue_1_perk1_CheapShot                1\n",
       "blue_1_perk2_ZombieWard               1\n",
       "blue_1_perk3_RavenousHunter           1\n",
       "blue_1_perk4_NimbusCloak              1\n",
       "blue_1_perk5_Transcendence            1\n",
       "blue_1_perkPrimaryStyle_Domination    1\n",
       "blue_1_perkSubStyle_Sorcery           1\n",
       "blue_1_spell1Id_Flash                 1\n",
       "blue_1_spell2Id_Smite                 1\n",
       "blue_2_Sett                           1\n",
       "blue_2_perk0_Conqueror                1\n",
       "blue_2_perk1_Triumph                  1\n",
       "blue_2_perk2_LegendAlacrity           1\n",
       "blue_2_perk3_CoupDeGrace              1\n",
       "blue_2_perk4_SecondWind               1\n",
       "blue_2_perk5_Overgrowth               1\n",
       "blue_2_perkPrimaryStyle_Precision     1\n",
       "blue_2_perkSubStyle_Resolve           1\n",
       "blue_2_spell1Id_Flash                 1\n",
       "blue_2_spell2Id_Teleport              1\n",
       "blue_3_Lucian                         1\n",
       "blue_3_perk0_PressTheAttack           1\n",
       "blue_3_perk1_Overheal                 1\n",
       "blue_3_perk2_LegendAlacrity           1\n",
       "blue_3_perk3_CoupDeGrace              1\n",
       "blue_3_perk4_MagicalFootwear          1\n",
       "blue_3_perk5_BiscuitDelivery          1\n",
       "blue_3_perkPrimaryStyle_Precision     1\n",
       "blue_3_perkSubStyle_Inspiration       1\n",
       "blue_3_spell1Id_Flash                 1\n",
       "blue_3_spell2Id_Ignite                1\n",
       "blue_4_Nautilus                       1\n",
       "blue_4_perk0_Aftershock               1\n",
       "blue_4_perk1_FontOfLife               1\n",
       "blue_4_perk2_BonePlating              1\n",
       "blue_4_perk3_Revitalize               1\n",
       "blue_4_perk4_PerfectTiming            1\n",
       "blue_4_perk5_MinionDematerializer     1\n",
       "blue_4_perkPrimaryStyle_Resolve       1\n",
       "blue_4_perkSubStyle_Inspiration       1\n",
       "blue_4_spell1Id_Ignite                1\n",
       "blue_4_spell2Id_Flash                 1\n",
       "blue_5_Tryndamere                     1\n",
       "blue_5_perk0_FleetFootwork            1\n",
       "blue_5_perk1_Triumph                  1\n",
       "blue_5_perk2_LegendAlacrity           1\n",
       "blue_5_perk3_LastStand                1\n",
       "blue_5_perk4_MagicalFootwear          1\n",
       "blue_5_perk5_CosmicInsight            1\n",
       "blue_5_perkPrimaryStyle_Precision     1\n",
       "blue_5_perkSubStyle_Inspiration       1\n",
       "blue_5_spell1Id_Teleport              1\n",
       "blue_5_spell2Id_Flash                 1\n",
       "Name: 9635, dtype: int64"
      ]
     },
     "execution_count": 54,
     "metadata": {},
     "output_type": "execute_result"
    }
   ],
   "source": [
    "X_test.iloc[0][(X_test.iloc[0]>0) & X_test.iloc[0].index.str.contains('blue')].sort_index().head(55)"
   ]
  }
 ],
 "metadata": {
  "kernelspec": {
   "display_name": "Python 3",
   "language": "python",
   "name": "python3"
  },
  "language_info": {
   "codemirror_mode": {
    "name": "ipython",
    "version": 3
   },
   "file_extension": ".py",
   "mimetype": "text/x-python",
   "name": "python",
   "nbconvert_exporter": "python",
   "pygments_lexer": "ipython3",
   "version": "3.7.4"
  }
 },
 "nbformat": 4,
 "nbformat_minor": 2
}
