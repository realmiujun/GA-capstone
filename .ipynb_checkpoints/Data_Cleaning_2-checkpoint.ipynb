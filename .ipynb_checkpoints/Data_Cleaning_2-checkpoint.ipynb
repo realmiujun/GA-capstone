{
 "cells": [
  {
   "cell_type": "markdown",
   "metadata": {},
   "source": [
    "# Data Cleaning"
   ]
  },
  {
   "cell_type": "code",
   "execution_count": 1,
   "metadata": {},
   "outputs": [],
   "source": [
    "import pandas as pd\n",
    "import math\n",
    "import json\n",
    "import numpy as np\n",
    "import matplotlib.pyplot as plt\n",
    "import seaborn as sns\n",
    "from sklearn.model_selection import GridSearchCV,train_test_split\n",
    "from sklearn.pipeline import Pipeline\n",
    "from sklearn.linear_model import LogisticRegression\n",
    "from sklearn.neighbors import KNeighborsClassifier\n",
    "from sklearn.decomposition import PCA\n",
    "from sklearn.svm import SVC\n",
    "from sklearn.ensemble import RandomForestClassifier"
   ]
  },
  {
   "cell_type": "code",
   "execution_count": 3,
   "metadata": {},
   "outputs": [],
   "source": [
    "try:\n",
    "    df = pd.read_csv('./leaguedata/player_stats_5a.csv')\n",
    "except:\n",
    "    df = pd.read_csv('https://dl.dropboxusercontent.com/s/f6hsdanqmktsbbq/player_stats_5a.csv?dl=0')"
   ]
  },
  {
   "cell_type": "code",
   "execution_count": 4,
   "metadata": {},
   "outputs": [
    {
     "data": {
      "text/plain": [
       "(158640, 119)"
      ]
     },
     "execution_count": 4,
     "metadata": {},
     "output_type": "execute_result"
    }
   ],
   "source": [
    "df.shape"
   ]
  },
  {
   "cell_type": "markdown",
   "metadata": {},
   "source": [
    "### Each game has 10 players. It is not possible to have a count of players not be a factor of 10.  This will cause problems in the future as we want to label every set of 10 players with their specific game ID."
   ]
  },
  {
   "cell_type": "code",
   "execution_count": 5,
   "metadata": {
    "scrolled": true
   },
   "outputs": [],
   "source": [
    "# Iterate for all participant ID's until we find one that falls out of the pattern\n",
    "\n",
    "for player_index in range(0,len(df),5):\n",
    "    if (df['participantId'].iloc[player_index]!=1 and df['participantId'].iloc[player_index]!= 6):\n",
    "        print(player_index)\n",
    "        break"
   ]
  },
  {
   "cell_type": "code",
   "execution_count": 6,
   "metadata": {
    "scrolled": true
   },
   "outputs": [
    {
     "data": {
      "text/plain": [
       "10    15864\n",
       "9     15864\n",
       "8     15864\n",
       "7     15864\n",
       "6     15864\n",
       "5     15864\n",
       "4     15864\n",
       "3     15864\n",
       "2     15864\n",
       "1     15864\n",
       "Name: participantId, dtype: int64"
      ]
     },
     "execution_count": 6,
     "metadata": {},
     "output_type": "execute_result"
    }
   ],
   "source": [
    "df['participantId'].value_counts()"
   ]
  },
  {
   "cell_type": "code",
   "execution_count": 7,
   "metadata": {},
   "outputs": [
    {
     "data": {
      "text/plain": [
       "100    79320\n",
       "200    79320\n",
       "Name: teamId, dtype: int64"
      ]
     },
     "execution_count": 7,
     "metadata": {},
     "output_type": "execute_result"
    }
   ],
   "source": [
    "df['teamId'].value_counts()"
   ]
  },
  {
   "cell_type": "markdown",
   "metadata": {},
   "source": [
    "### Adding each game ID to their respective set of players."
   ]
  },
  {
   "cell_type": "code",
   "execution_count": 8,
   "metadata": {
    "scrolled": true
   },
   "outputs": [],
   "source": [
    "df = df.reset_index()\n",
    "def set_game(x):\n",
    "    return math.floor(x*.1)\n",
    "df['index'] = df['index'].map(set_game)\n",
    "df = df.rename(columns={'index':'gameId'})"
   ]
  },
  {
   "cell_type": "markdown",
   "metadata": {},
   "source": [
    "### Replacing team ID with team color"
   ]
  },
  {
   "cell_type": "code",
   "execution_count": 9,
   "metadata": {},
   "outputs": [],
   "source": [
    "df['teamId'].replace({100:'blue',200:'red'},inplace=True)"
   ]
  },
  {
   "cell_type": "markdown",
   "metadata": {},
   "source": [
    "### Replacing champion ID's with champion names"
   ]
  },
  {
   "cell_type": "code",
   "execution_count": 10,
   "metadata": {},
   "outputs": [],
   "source": [
    "champ = pd.read_json('./leaguedata/champion.json')"
   ]
  },
  {
   "cell_type": "code",
   "execution_count": 11,
   "metadata": {
    "scrolled": true
   },
   "outputs": [],
   "source": [
    "names = {champ.iloc[i]['data']['key']:champ.iloc[i]['data']['name'] for i in range(len(champ))}"
   ]
  },
  {
   "cell_type": "code",
   "execution_count": 12,
   "metadata": {},
   "outputs": [],
   "source": [
    "df['championId'] = df['championId'].astype(str).replace(names)"
   ]
  },
  {
   "cell_type": "markdown",
   "metadata": {},
   "source": [
    "### Replacing item ID's with item names"
   ]
  },
  {
   "cell_type": "code",
   "execution_count": 13,
   "metadata": {},
   "outputs": [],
   "source": [
    "with open('./leaguedata/item.json') as json_data:\n",
    "    data = json.load(json_data)\n",
    "item = pd.DataFrame(data['data']).T"
   ]
  },
  {
   "cell_type": "code",
   "execution_count": 14,
   "metadata": {},
   "outputs": [],
   "source": [
    "item['itemId'] = item.index"
   ]
  },
  {
   "cell_type": "code",
   "execution_count": 15,
   "metadata": {},
   "outputs": [],
   "source": [
    "items = {item.iloc[i]['itemId']:item.iloc[i]['name'] for i in range(len(item))}"
   ]
  },
  {
   "cell_type": "code",
   "execution_count": 16,
   "metadata": {},
   "outputs": [],
   "source": [
    "item_cols = df.loc[:,['item0','item1','item2','item3','item4','item5','item6']]\n",
    "df.loc[:,['item0','item1','item2','item3','item4','item5','item6']] = item_cols.astype(str).replace(items)"
   ]
  },
  {
   "cell_type": "code",
   "execution_count": 17,
   "metadata": {},
   "outputs": [
    {
     "data": {
      "text/plain": [
       "Lee Sin         0.035533\n",
       "Miss Fortune    0.033775\n",
       "Senna           0.029438\n",
       "Thresh          0.027824\n",
       "Sett            0.027427\n",
       "                  ...   \n",
       "Skarner         0.000435\n",
       "Anivia          0.000347\n",
       "Rammus          0.000246\n",
       "Nasus           0.000177\n",
       "Udyr            0.000069\n",
       "Name: championId, Length: 148, dtype: float64"
      ]
     },
     "execution_count": 17,
     "metadata": {},
     "output_type": "execute_result"
    }
   ],
   "source": [
    "df['championId'].value_counts(normalize=True).sort_values(ascending=False)"
   ]
  },
  {
   "cell_type": "markdown",
   "metadata": {},
   "source": [
    "### All \"perks\" are essentially stats the players have chosen for their champions.  Some may be familiar with these as \"runes\". Here we will be replacing the ID's with their respective names."
   ]
  },
  {
   "cell_type": "code",
   "execution_count": 18,
   "metadata": {},
   "outputs": [
    {
     "data": {
      "text/html": [
       "<div>\n",
       "<style scoped>\n",
       "    .dataframe tbody tr th:only-of-type {\n",
       "        vertical-align: middle;\n",
       "    }\n",
       "\n",
       "    .dataframe tbody tr th {\n",
       "        vertical-align: top;\n",
       "    }\n",
       "\n",
       "    .dataframe thead th {\n",
       "        text-align: right;\n",
       "    }\n",
       "</style>\n",
       "<table border=\"1\" class=\"dataframe\">\n",
       "  <thead>\n",
       "    <tr style=\"text-align: right;\">\n",
       "      <th></th>\n",
       "      <th>id</th>\n",
       "      <th>key</th>\n",
       "      <th>icon</th>\n",
       "      <th>name</th>\n",
       "      <th>slots</th>\n",
       "    </tr>\n",
       "  </thead>\n",
       "  <tbody>\n",
       "    <tr>\n",
       "      <th>0</th>\n",
       "      <td>8100</td>\n",
       "      <td>Domination</td>\n",
       "      <td>perk-images/Styles/7200_Domination.png</td>\n",
       "      <td>Domination</td>\n",
       "      <td>[{'runes': [{'id': 8112, 'key': 'Electrocute',...</td>\n",
       "    </tr>\n",
       "    <tr>\n",
       "      <th>1</th>\n",
       "      <td>8300</td>\n",
       "      <td>Inspiration</td>\n",
       "      <td>perk-images/Styles/7203_Whimsy.png</td>\n",
       "      <td>Inspiration</td>\n",
       "      <td>[{'runes': [{'id': 8351, 'key': 'GlacialAugmen...</td>\n",
       "    </tr>\n",
       "    <tr>\n",
       "      <th>2</th>\n",
       "      <td>8000</td>\n",
       "      <td>Precision</td>\n",
       "      <td>perk-images/Styles/7201_Precision.png</td>\n",
       "      <td>Precision</td>\n",
       "      <td>[{'runes': [{'id': 8005, 'key': 'PressTheAttac...</td>\n",
       "    </tr>\n",
       "    <tr>\n",
       "      <th>3</th>\n",
       "      <td>8400</td>\n",
       "      <td>Resolve</td>\n",
       "      <td>perk-images/Styles/7204_Resolve.png</td>\n",
       "      <td>Resolve</td>\n",
       "      <td>[{'runes': [{'id': 8437, 'key': 'GraspOfTheUnd...</td>\n",
       "    </tr>\n",
       "    <tr>\n",
       "      <th>4</th>\n",
       "      <td>8200</td>\n",
       "      <td>Sorcery</td>\n",
       "      <td>perk-images/Styles/7202_Sorcery.png</td>\n",
       "      <td>Sorcery</td>\n",
       "      <td>[{'runes': [{'id': 8214, 'key': 'SummonAery', ...</td>\n",
       "    </tr>\n",
       "  </tbody>\n",
       "</table>\n",
       "</div>"
      ],
      "text/plain": [
       "     id          key                                    icon         name  \\\n",
       "0  8100   Domination  perk-images/Styles/7200_Domination.png   Domination   \n",
       "1  8300  Inspiration      perk-images/Styles/7203_Whimsy.png  Inspiration   \n",
       "2  8000    Precision   perk-images/Styles/7201_Precision.png    Precision   \n",
       "3  8400      Resolve     perk-images/Styles/7204_Resolve.png      Resolve   \n",
       "4  8200      Sorcery     perk-images/Styles/7202_Sorcery.png      Sorcery   \n",
       "\n",
       "                                               slots  \n",
       "0  [{'runes': [{'id': 8112, 'key': 'Electrocute',...  \n",
       "1  [{'runes': [{'id': 8351, 'key': 'GlacialAugmen...  \n",
       "2  [{'runes': [{'id': 8005, 'key': 'PressTheAttac...  \n",
       "3  [{'runes': [{'id': 8437, 'key': 'GraspOfTheUnd...  \n",
       "4  [{'runes': [{'id': 8214, 'key': 'SummonAery', ...  "
      ]
     },
     "execution_count": 18,
     "metadata": {},
     "output_type": "execute_result"
    }
   ],
   "source": [
    "runes = pd.read_json('./leaguedata/runesReforged.json')\n",
    "runes"
   ]
  },
  {
   "cell_type": "code",
   "execution_count": 19,
   "metadata": {},
   "outputs": [
    {
     "data": {
      "text/plain": [
       "{8100: 'Domination',\n",
       " 8300: 'Inspiration',\n",
       " 8000: 'Precision',\n",
       " 8400: 'Resolve',\n",
       " 8200: 'Sorcery'}"
      ]
     },
     "execution_count": 19,
     "metadata": {},
     "output_type": "execute_result"
    }
   ],
   "source": [
    "rune_key = {}\n",
    "for i in range(len(runes['id'])):\n",
    "    rune_key[runes['id'].iloc[i]] = runes['key'].iloc[i]\n",
    "rune_key"
   ]
  },
  {
   "cell_type": "code",
   "execution_count": 20,
   "metadata": {
    "scrolled": false
   },
   "outputs": [
    {
     "data": {
      "text/plain": [
       "{8112: 'Electrocute',\n",
       " 8124: 'Predator',\n",
       " 8128: 'DarkHarvest',\n",
       " 9923: 'HailOfBlades',\n",
       " 8126: 'CheapShot',\n",
       " 8139: 'TasteOfBlood',\n",
       " 8143: 'SuddenImpact',\n",
       " 8136: 'ZombieWard',\n",
       " 8120: 'GhostPoro',\n",
       " 8138: 'EyeballCollection',\n",
       " 8135: 'RavenousHunter',\n",
       " 8134: 'IngeniousHunter',\n",
       " 8105: 'RelentlessHunter',\n",
       " 8106: 'UltimateHunter',\n",
       " 8351: 'GlacialAugment',\n",
       " 8360: 'UnsealedSpellbook',\n",
       " 8358: 'MasterKey',\n",
       " 8306: 'HextechFlashtraption',\n",
       " 8304: 'MagicalFootwear',\n",
       " 8313: 'PerfectTiming',\n",
       " 8321: 'FuturesMarket',\n",
       " 8316: 'MinionDematerializer',\n",
       " 8345: 'BiscuitDelivery',\n",
       " 8347: 'CosmicInsight',\n",
       " 8410: 'ApproachVelocity',\n",
       " 8352: 'TimeWarpTonic',\n",
       " 8005: 'PressTheAttack',\n",
       " 8008: 'LethalTempo',\n",
       " 8021: 'FleetFootwork',\n",
       " 8010: 'Conqueror',\n",
       " 9101: 'Overheal',\n",
       " 9111: 'Triumph',\n",
       " 8009: 'PresenceOfMind',\n",
       " 9104: 'LegendAlacrity',\n",
       " 9105: 'LegendTenacity',\n",
       " 9103: 'LegendBloodline',\n",
       " 8014: 'CoupDeGrace',\n",
       " 8017: 'CutDown',\n",
       " 8299: 'LastStand',\n",
       " 8437: 'GraspOfTheUndying',\n",
       " 8439: 'Aftershock',\n",
       " 8465: 'Guardian',\n",
       " 8446: 'Demolish',\n",
       " 8463: 'FontOfLife',\n",
       " 8401: 'ShieldBash',\n",
       " 8429: 'Conditioning',\n",
       " 8444: 'SecondWind',\n",
       " 8473: 'BonePlating',\n",
       " 8451: 'Overgrowth',\n",
       " 8453: 'Revitalize',\n",
       " 8242: 'Unflinching',\n",
       " 8214: 'SummonAery',\n",
       " 8229: 'ArcaneComet',\n",
       " 8230: 'PhaseRush',\n",
       " 8224: 'NullifyingOrb',\n",
       " 8226: 'ManaflowBand',\n",
       " 8275: 'NimbusCloak',\n",
       " 8210: 'Transcendence',\n",
       " 8234: 'Celerity',\n",
       " 8233: 'AbsoluteFocus',\n",
       " 8237: 'Scorch',\n",
       " 8232: 'Waterwalking',\n",
       " 8236: 'GatheringStorm'}"
      ]
     },
     "execution_count": 20,
     "metadata": {},
     "output_type": "execute_result"
    }
   ],
   "source": [
    "rune_list = {}\n",
    "for i in runes['slots']:\n",
    "    for j in i:\n",
    "        for k in j['runes']:\n",
    "            for l in k:\n",
    "                rune_list[k['id']] = k['key']\n",
    "rune_list"
   ]
  },
  {
   "cell_type": "code",
   "execution_count": 21,
   "metadata": {},
   "outputs": [],
   "source": [
    "rune_cols = [col for col in df.columns.tolist() if col.startswith('perk')]\n",
    "df.loc[:,rune_cols] = df.loc[:,rune_cols].replace(rune_list)"
   ]
  },
  {
   "cell_type": "code",
   "execution_count": 22,
   "metadata": {},
   "outputs": [],
   "source": [
    "df['perkSubStyle'].replace(rune_key,inplace=True)\n",
    "df['perkPrimaryStyle'].replace(rune_key,inplace=True)"
   ]
  },
  {
   "cell_type": "code",
   "execution_count": 23,
   "metadata": {},
   "outputs": [],
   "source": [
    "df.drop(columns=[col for col in df.columns if 'Var' in col],inplace=True)"
   ]
  },
  {
   "cell_type": "code",
   "execution_count": 24,
   "metadata": {},
   "outputs": [
    {
     "data": {
      "text/html": [
       "<div>\n",
       "<style scoped>\n",
       "    .dataframe tbody tr th:only-of-type {\n",
       "        vertical-align: middle;\n",
       "    }\n",
       "\n",
       "    .dataframe tbody tr th {\n",
       "        vertical-align: top;\n",
       "    }\n",
       "\n",
       "    .dataframe thead th {\n",
       "        text-align: right;\n",
       "    }\n",
       "</style>\n",
       "<table border=\"1\" class=\"dataframe\">\n",
       "  <thead>\n",
       "    <tr style=\"text-align: right;\">\n",
       "      <th></th>\n",
       "      <th>perkSubStyle</th>\n",
       "      <th>perkPrimaryStyle</th>\n",
       "      <th>perk0</th>\n",
       "      <th>perk1</th>\n",
       "      <th>perk2</th>\n",
       "      <th>perk3</th>\n",
       "      <th>perk4</th>\n",
       "      <th>perk5</th>\n",
       "    </tr>\n",
       "  </thead>\n",
       "  <tbody>\n",
       "    <tr>\n",
       "      <th>0</th>\n",
       "      <td>Sorcery</td>\n",
       "      <td>Precision</td>\n",
       "      <td>Conqueror</td>\n",
       "      <td>Triumph</td>\n",
       "      <td>LegendTenacity</td>\n",
       "      <td>CoupDeGrace</td>\n",
       "      <td>NimbusCloak</td>\n",
       "      <td>Waterwalking</td>\n",
       "    </tr>\n",
       "    <tr>\n",
       "      <th>1</th>\n",
       "      <td>Domination</td>\n",
       "      <td>Precision</td>\n",
       "      <td>Conqueror</td>\n",
       "      <td>PresenceOfMind</td>\n",
       "      <td>LegendAlacrity</td>\n",
       "      <td>CoupDeGrace</td>\n",
       "      <td>GhostPoro</td>\n",
       "      <td>RavenousHunter</td>\n",
       "    </tr>\n",
       "    <tr>\n",
       "      <th>2</th>\n",
       "      <td>Domination</td>\n",
       "      <td>Precision</td>\n",
       "      <td>Conqueror</td>\n",
       "      <td>PresenceOfMind</td>\n",
       "      <td>LegendAlacrity</td>\n",
       "      <td>CoupDeGrace</td>\n",
       "      <td>TasteOfBlood</td>\n",
       "      <td>RavenousHunter</td>\n",
       "    </tr>\n",
       "    <tr>\n",
       "      <th>3</th>\n",
       "      <td>Sorcery</td>\n",
       "      <td>Precision</td>\n",
       "      <td>PressTheAttack</td>\n",
       "      <td>Overheal</td>\n",
       "      <td>LegendBloodline</td>\n",
       "      <td>CoupDeGrace</td>\n",
       "      <td>NimbusCloak</td>\n",
       "      <td>GatheringStorm</td>\n",
       "    </tr>\n",
       "    <tr>\n",
       "      <th>4</th>\n",
       "      <td>Precision</td>\n",
       "      <td>Sorcery</td>\n",
       "      <td>SummonAery</td>\n",
       "      <td>ManaflowBand</td>\n",
       "      <td>Transcendence</td>\n",
       "      <td>GatheringStorm</td>\n",
       "      <td>PresenceOfMind</td>\n",
       "      <td>CutDown</td>\n",
       "    </tr>\n",
       "    <tr>\n",
       "      <th>...</th>\n",
       "      <td>...</td>\n",
       "      <td>...</td>\n",
       "      <td>...</td>\n",
       "      <td>...</td>\n",
       "      <td>...</td>\n",
       "      <td>...</td>\n",
       "      <td>...</td>\n",
       "      <td>...</td>\n",
       "    </tr>\n",
       "    <tr>\n",
       "      <th>158635</th>\n",
       "      <td>Inspiration</td>\n",
       "      <td>Sorcery</td>\n",
       "      <td>PhaseRush</td>\n",
       "      <td>NimbusCloak</td>\n",
       "      <td>Transcendence</td>\n",
       "      <td>Scorch</td>\n",
       "      <td>BiscuitDelivery</td>\n",
       "      <td>TimeWarpTonic</td>\n",
       "    </tr>\n",
       "    <tr>\n",
       "      <th>158636</th>\n",
       "      <td>Resolve</td>\n",
       "      <td>Sorcery</td>\n",
       "      <td>SummonAery</td>\n",
       "      <td>ManaflowBand</td>\n",
       "      <td>Transcendence</td>\n",
       "      <td>Scorch</td>\n",
       "      <td>BonePlating</td>\n",
       "      <td>Revitalize</td>\n",
       "    </tr>\n",
       "    <tr>\n",
       "      <th>158637</th>\n",
       "      <td>Domination</td>\n",
       "      <td>Precision</td>\n",
       "      <td>Conqueror</td>\n",
       "      <td>Triumph</td>\n",
       "      <td>LegendAlacrity</td>\n",
       "      <td>CoupDeGrace</td>\n",
       "      <td>TasteOfBlood</td>\n",
       "      <td>RavenousHunter</td>\n",
       "    </tr>\n",
       "    <tr>\n",
       "      <th>158638</th>\n",
       "      <td>Sorcery</td>\n",
       "      <td>Domination</td>\n",
       "      <td>Electrocute</td>\n",
       "      <td>TasteOfBlood</td>\n",
       "      <td>GhostPoro</td>\n",
       "      <td>RavenousHunter</td>\n",
       "      <td>ManaflowBand</td>\n",
       "      <td>Transcendence</td>\n",
       "    </tr>\n",
       "    <tr>\n",
       "      <th>158639</th>\n",
       "      <td>Sorcery</td>\n",
       "      <td>Domination</td>\n",
       "      <td>HailOfBlades</td>\n",
       "      <td>CheapShot</td>\n",
       "      <td>EyeballCollection</td>\n",
       "      <td>RelentlessHunter</td>\n",
       "      <td>NimbusCloak</td>\n",
       "      <td>Waterwalking</td>\n",
       "    </tr>\n",
       "  </tbody>\n",
       "</table>\n",
       "<p>158640 rows × 8 columns</p>\n",
       "</div>"
      ],
      "text/plain": [
       "       perkSubStyle perkPrimaryStyle           perk0           perk1  \\\n",
       "0           Sorcery        Precision       Conqueror         Triumph   \n",
       "1        Domination        Precision       Conqueror  PresenceOfMind   \n",
       "2        Domination        Precision       Conqueror  PresenceOfMind   \n",
       "3           Sorcery        Precision  PressTheAttack        Overheal   \n",
       "4         Precision          Sorcery      SummonAery    ManaflowBand   \n",
       "...             ...              ...             ...             ...   \n",
       "158635  Inspiration          Sorcery       PhaseRush     NimbusCloak   \n",
       "158636      Resolve          Sorcery      SummonAery    ManaflowBand   \n",
       "158637   Domination        Precision       Conqueror         Triumph   \n",
       "158638      Sorcery       Domination     Electrocute    TasteOfBlood   \n",
       "158639      Sorcery       Domination    HailOfBlades       CheapShot   \n",
       "\n",
       "                    perk2             perk3            perk4           perk5  \n",
       "0          LegendTenacity       CoupDeGrace      NimbusCloak    Waterwalking  \n",
       "1          LegendAlacrity       CoupDeGrace        GhostPoro  RavenousHunter  \n",
       "2          LegendAlacrity       CoupDeGrace     TasteOfBlood  RavenousHunter  \n",
       "3         LegendBloodline       CoupDeGrace      NimbusCloak  GatheringStorm  \n",
       "4           Transcendence    GatheringStorm   PresenceOfMind         CutDown  \n",
       "...                   ...               ...              ...             ...  \n",
       "158635      Transcendence            Scorch  BiscuitDelivery   TimeWarpTonic  \n",
       "158636      Transcendence            Scorch      BonePlating      Revitalize  \n",
       "158637     LegendAlacrity       CoupDeGrace     TasteOfBlood  RavenousHunter  \n",
       "158638          GhostPoro    RavenousHunter     ManaflowBand   Transcendence  \n",
       "158639  EyeballCollection  RelentlessHunter      NimbusCloak    Waterwalking  \n",
       "\n",
       "[158640 rows x 8 columns]"
      ]
     },
     "execution_count": 24,
     "metadata": {},
     "output_type": "execute_result"
    }
   ],
   "source": [
    "df.loc[:,['perkSubStyle','perkPrimaryStyle','perk0','perk1','perk2','perk3','perk4','perk5']]"
   ]
  },
  {
   "cell_type": "markdown",
   "metadata": {},
   "source": [
    "### Replacing all spell ID's with spell names."
   ]
  },
  {
   "cell_type": "code",
   "execution_count": 25,
   "metadata": {},
   "outputs": [],
   "source": [
    "spells = pd.read_json('./leaguedata/summoner.json')"
   ]
  },
  {
   "cell_type": "code",
   "execution_count": 26,
   "metadata": {},
   "outputs": [],
   "source": [
    "spell_names = {}\n",
    "for i in spells['data']:\n",
    "    spell_names[i['key']] = i['name']"
   ]
  },
  {
   "cell_type": "code",
   "execution_count": 27,
   "metadata": {},
   "outputs": [
    {
     "data": {
      "text/plain": [
       "{'21': 'Barrier',\n",
       " '1': 'Cleanse',\n",
       " '14': 'Ignite',\n",
       " '3': 'Exhaust',\n",
       " '4': 'Flash',\n",
       " '6': 'Ghost',\n",
       " '7': 'Heal',\n",
       " '13': 'Clarity',\n",
       " '30': 'To the King!',\n",
       " '31': 'Poro Toss',\n",
       " '11': 'Smite',\n",
       " '39': 'Mark',\n",
       " '32': 'Mark',\n",
       " '12': 'Teleport'}"
      ]
     },
     "execution_count": 27,
     "metadata": {},
     "output_type": "execute_result"
    }
   ],
   "source": [
    "spell_names"
   ]
  },
  {
   "cell_type": "code",
   "execution_count": 28,
   "metadata": {},
   "outputs": [],
   "source": [
    "df.loc[:,['spell1Id','spell2Id']] = df.loc[:,['spell1Id','spell2Id']].astype(str).replace(spell_names)"
   ]
  },
  {
   "cell_type": "markdown",
   "metadata": {},
   "source": [
    "### Checking out data"
   ]
  },
  {
   "cell_type": "code",
   "execution_count": 29,
   "metadata": {},
   "outputs": [
    {
     "data": {
      "image/png": "[encoded data removed]",
      "text/plain": [
       "<Figure size 1080x576 with 1 Axes>"
      ]
     },
     "metadata": {
      "needs_background": "light"
     },
     "output_type": "display_data"
    }
   ],
   "source": [
    "plt.figure(figsize=(15,8))\n",
    "df.groupby('championId')['win'].mean().sort_values(ascending=False).head(10).plot(kind='barh');"
   ]
  },
  {
   "cell_type": "code",
   "execution_count": 30,
   "metadata": {},
   "outputs": [
    {
     "data": {
      "image/png": "[encoded data removed]",
      "text/plain": [
       "<Figure size 1080x720 with 1 Axes>"
      ]
     },
     "metadata": {
      "needs_background": "light"
     },
     "output_type": "display_data"
    }
   ],
   "source": [
    "plt.figure(figsize=(15,10))\n",
    "df.groupby('spell2Id')['win'].mean().sort_values(ascending=False).plot(kind='barh');"
   ]
  },
  {
   "cell_type": "code",
   "execution_count": 31,
   "metadata": {},
   "outputs": [
    {
     "data": {
      "image/png": "[encoded data removed]",
      "text/plain": [
       "<Figure size 1080x720 with 1 Axes>"
      ]
     },
     "metadata": {
      "needs_background": "light"
     },
     "output_type": "display_data"
    }
   ],
   "source": [
    "plt.figure(figsize=(15,10))\n",
    "df.groupby('spell1Id')['win'].mean().sort_values(ascending=False).plot(kind='barh');"
   ]
  },
  {
   "cell_type": "code",
   "execution_count": 32,
   "metadata": {},
   "outputs": [
    {
     "data": {
      "image/png": "[encoded data removed]",
      "text/plain": [
       "<Figure size 1080x576 with 1 Axes>"
      ]
     },
     "metadata": {
      "needs_background": "light"
     },
     "output_type": "display_data"
    }
   ],
   "source": [
    "plt.figure(figsize=(15,8))\n",
    "df.groupby('perk5')['win'].mean().sort_values(ascending=False).head(10).plot(kind='barh');"
   ]
  },
  {
   "cell_type": "code",
   "execution_count": 33,
   "metadata": {},
   "outputs": [
    {
     "data": {
      "image/png": "[encoded data removed]",
      "text/plain": [
       "<Figure size 1080x576 with 1 Axes>"
      ]
     },
     "metadata": {
      "needs_background": "light"
     },
     "output_type": "display_data"
    }
   ],
   "source": [
    "plt.figure(figsize=(15,8))\n",
    "df.groupby('perk4')['win'].mean().sort_values(ascending=False).head(10).plot(kind='barh');"
   ]
  },
  {
   "cell_type": "code",
   "execution_count": 34,
   "metadata": {},
   "outputs": [
    {
     "data": {
      "image/png": "[encoded data removed]",
      "text/plain": [
       "<Figure size 1080x720 with 1 Axes>"
      ]
     },
     "metadata": {
      "needs_background": "light"
     },
     "output_type": "display_data"
    }
   ],
   "source": [
    "plt.figure(figsize=(15,10))\n",
    "df.groupby('perk3')['win'].mean().sort_values(ascending=False).plot(kind='barh');"
   ]
  },
  {
   "cell_type": "code",
   "execution_count": 35,
   "metadata": {},
   "outputs": [
    {
     "data": {
      "image/png": "[encoded data removed]",
      "text/plain": [
       "<Figure size 1080x720 with 1 Axes>"
      ]
     },
     "metadata": {
      "needs_background": "light"
     },
     "output_type": "display_data"
    }
   ],
   "source": [
    "plt.figure(figsize=(15,10))\n",
    "df.groupby('perk2')['win'].mean().sort_values(ascending=False).plot(kind='barh');"
   ]
  },
  {
   "cell_type": "code",
   "execution_count": 36,
   "metadata": {},
   "outputs": [
    {
     "data": {
      "image/png": "[encoded data removed]",
      "text/plain": [
       "<Figure size 1080x720 with 1 Axes>"
      ]
     },
     "metadata": {
      "needs_background": "light"
     },
     "output_type": "display_data"
    }
   ],
   "source": [
    "plt.figure(figsize=(15,10))\n",
    "df.groupby('perk1')['win'].mean().sort_values(ascending=False).plot(kind='barh');"
   ]
  },
  {
   "cell_type": "code",
   "execution_count": 37,
   "metadata": {},
   "outputs": [
    {
     "data": {
      "image/png": "[encoded data removed]",
      "text/plain": [
       "<Figure size 1080x720 with 1 Axes>"
      ]
     },
     "metadata": {
      "needs_background": "light"
     },
     "output_type": "display_data"
    }
   ],
   "source": [
    "plt.figure(figsize=(15,10))\n",
    "df.groupby('perk0')['win'].mean().sort_values(ascending=False).plot(kind='barh');"
   ]
  },
  {
   "cell_type": "code",
   "execution_count": 38,
   "metadata": {
    "scrolled": false
   },
   "outputs": [],
   "source": [
    "df.to_csv('./leaguedata/player_stats_5a_v2.csv',index=False)"
   ]
  },
  {
   "cell_type": "markdown",
   "metadata": {},
   "source": [
    "### Need to remove all post game statistics and create `pregame` dataframe"
   ]
  },
  {
   "cell_type": "code",
   "execution_count": 40,
   "metadata": {},
   "outputs": [],
   "source": [
    "pregame = df.drop(columns=['participantId.1','item0','item1','item2', 'item3', 'item4', \n",
    "                           'item5','item6', 'kills', 'deaths', 'assists', 'largestKillingSpree', 'largestMultiKill',\n",
    "                           'killingSprees', 'longestTimeSpentLiving', 'doubleKills', 'tripleKills', 'quadraKills', \n",
    "                           'pentaKills','unrealKills', 'totalDamageDealt', 'magicDamageDealt', 'physicalDamageDealt',\n",
    "                           'trueDamageDealt', 'largestCriticalStrike', 'totalDamageDealtToChampions', 'magicDamageDealtToChampions',\n",
    "                           'physicalDamageDealtToChampions', 'trueDamageDealtToChampions', 'totalHeal', 'totalUnitsHealed',\n",
    "                           'damageSelfMitigated', 'damageDealtToObjectives', 'damageDealtToTurrets', 'visionScore',\n",
    "                           'timeCCingOthers','totalDamageTaken', 'magicalDamageTaken', 'physicalDamageTaken', \n",
    "                           'trueDamageTaken', 'goldEarned','goldSpent', 'turretKills', 'inhibitorKills', 'totalMinionsKilled', 'neutralMinionsKilled',\n",
    "                           'neutralMinionsKilledTeamJungle', 'neutralMinionsKilledEnemyJungle', 'totalTimeCrowdControlDealt',\n",
    "                           'champLevel','visionWardsBoughtInGame', 'sightWardsBoughtInGame', 'wardsPlaced', 'wardsKilled',\n",
    "                           'firstBloodKill','firstBloodAssist', 'firstTowerKill', 'firstTowerAssist', 'firstInhibitorKill',\n",
    "                           'firstInhibitorAssist','combatPlayerScore', 'objectivePlayerScore', 'totalPlayerScore',\n",
    "                           'totalScoreRank', 'playerScore0','playerScore1', 'playerScore2', 'playerScore3', 'playerScore4',\n",
    "                           'playerScore5', 'playerScore6','playerScore7', 'playerScore8', 'playerScore9', 'statPerk0',\n",
    "                           'statPerk1', 'statPerk2', 'participantId.2', 'creepsPerMinDeltas', 'xpPerMinDeltas',\n",
    "                           'goldPerMinDeltas', 'damageTakenPerMinDeltas', 'csDiffPerMinDeltas','xpDiffPerMinDeltas',\n",
    "                           'damageTakenDiffPerMinDeltas','role','lane'])\n",
    "pregame.to_csv('./processed_data/pregame.csv',index=False)"
   ]
  },
  {
   "cell_type": "code",
   "execution_count": 41,
   "metadata": {},
   "outputs": [
    {
     "data": {
      "text/html": [
       "<div>\n",
       "<style scoped>\n",
       "    .dataframe tbody tr th:only-of-type {\n",
       "        vertical-align: middle;\n",
       "    }\n",
       "\n",
       "    .dataframe tbody tr th {\n",
       "        vertical-align: top;\n",
       "    }\n",
       "\n",
       "    .dataframe thead th {\n",
       "        text-align: right;\n",
       "    }\n",
       "</style>\n",
       "<table border=\"1\" class=\"dataframe\">\n",
       "  <thead>\n",
       "    <tr style=\"text-align: right;\">\n",
       "      <th></th>\n",
       "      <th>gameId</th>\n",
       "      <th>participantId</th>\n",
       "      <th>teamId</th>\n",
       "      <th>championId</th>\n",
       "      <th>spell1Id</th>\n",
       "      <th>spell2Id</th>\n",
       "      <th>win</th>\n",
       "      <th>perk0</th>\n",
       "      <th>perk1</th>\n",
       "      <th>perk2</th>\n",
       "      <th>perk3</th>\n",
       "      <th>perk4</th>\n",
       "      <th>perk5</th>\n",
       "      <th>perkPrimaryStyle</th>\n",
       "      <th>perkSubStyle</th>\n",
       "    </tr>\n",
       "  </thead>\n",
       "  <tbody>\n",
       "    <tr>\n",
       "      <th>0</th>\n",
       "      <td>0</td>\n",
       "      <td>1</td>\n",
       "      <td>blue</td>\n",
       "      <td>Rek'Sai</td>\n",
       "      <td>Flash</td>\n",
       "      <td>Smite</td>\n",
       "      <td>False</td>\n",
       "      <td>Conqueror</td>\n",
       "      <td>Triumph</td>\n",
       "      <td>LegendTenacity</td>\n",
       "      <td>CoupDeGrace</td>\n",
       "      <td>NimbusCloak</td>\n",
       "      <td>Waterwalking</td>\n",
       "      <td>Precision</td>\n",
       "      <td>Sorcery</td>\n",
       "    </tr>\n",
       "    <tr>\n",
       "      <th>1</th>\n",
       "      <td>0</td>\n",
       "      <td>2</td>\n",
       "      <td>blue</td>\n",
       "      <td>Azir</td>\n",
       "      <td>Teleport</td>\n",
       "      <td>Flash</td>\n",
       "      <td>False</td>\n",
       "      <td>Conqueror</td>\n",
       "      <td>PresenceOfMind</td>\n",
       "      <td>LegendAlacrity</td>\n",
       "      <td>CoupDeGrace</td>\n",
       "      <td>GhostPoro</td>\n",
       "      <td>RavenousHunter</td>\n",
       "      <td>Precision</td>\n",
       "      <td>Domination</td>\n",
       "    </tr>\n",
       "    <tr>\n",
       "      <th>2</th>\n",
       "      <td>0</td>\n",
       "      <td>3</td>\n",
       "      <td>blue</td>\n",
       "      <td>Kennen</td>\n",
       "      <td>Flash</td>\n",
       "      <td>Teleport</td>\n",
       "      <td>False</td>\n",
       "      <td>Conqueror</td>\n",
       "      <td>PresenceOfMind</td>\n",
       "      <td>LegendAlacrity</td>\n",
       "      <td>CoupDeGrace</td>\n",
       "      <td>TasteOfBlood</td>\n",
       "      <td>RavenousHunter</td>\n",
       "      <td>Precision</td>\n",
       "      <td>Domination</td>\n",
       "    </tr>\n",
       "    <tr>\n",
       "      <th>3</th>\n",
       "      <td>0</td>\n",
       "      <td>4</td>\n",
       "      <td>blue</td>\n",
       "      <td>Miss Fortune</td>\n",
       "      <td>Barrier</td>\n",
       "      <td>Flash</td>\n",
       "      <td>False</td>\n",
       "      <td>PressTheAttack</td>\n",
       "      <td>Overheal</td>\n",
       "      <td>LegendBloodline</td>\n",
       "      <td>CoupDeGrace</td>\n",
       "      <td>NimbusCloak</td>\n",
       "      <td>GatheringStorm</td>\n",
       "      <td>Precision</td>\n",
       "      <td>Sorcery</td>\n",
       "    </tr>\n",
       "    <tr>\n",
       "      <th>4</th>\n",
       "      <td>0</td>\n",
       "      <td>5</td>\n",
       "      <td>blue</td>\n",
       "      <td>Yuumi</td>\n",
       "      <td>Heal</td>\n",
       "      <td>Exhaust</td>\n",
       "      <td>False</td>\n",
       "      <td>SummonAery</td>\n",
       "      <td>ManaflowBand</td>\n",
       "      <td>Transcendence</td>\n",
       "      <td>GatheringStorm</td>\n",
       "      <td>PresenceOfMind</td>\n",
       "      <td>CutDown</td>\n",
       "      <td>Sorcery</td>\n",
       "      <td>Precision</td>\n",
       "    </tr>\n",
       "    <tr>\n",
       "      <th>5</th>\n",
       "      <td>0</td>\n",
       "      <td>6</td>\n",
       "      <td>red</td>\n",
       "      <td>Thresh</td>\n",
       "      <td>Flash</td>\n",
       "      <td>Ignite</td>\n",
       "      <td>True</td>\n",
       "      <td>Aftershock</td>\n",
       "      <td>Demolish</td>\n",
       "      <td>SecondWind</td>\n",
       "      <td>Overgrowth</td>\n",
       "      <td>BiscuitDelivery</td>\n",
       "      <td>CosmicInsight</td>\n",
       "      <td>Resolve</td>\n",
       "      <td>Inspiration</td>\n",
       "    </tr>\n",
       "    <tr>\n",
       "      <th>6</th>\n",
       "      <td>0</td>\n",
       "      <td>7</td>\n",
       "      <td>red</td>\n",
       "      <td>Ekko</td>\n",
       "      <td>Flash</td>\n",
       "      <td>Smite</td>\n",
       "      <td>True</td>\n",
       "      <td>DarkHarvest</td>\n",
       "      <td>SuddenImpact</td>\n",
       "      <td>EyeballCollection</td>\n",
       "      <td>RavenousHunter</td>\n",
       "      <td>MagicalFootwear</td>\n",
       "      <td>CosmicInsight</td>\n",
       "      <td>Domination</td>\n",
       "      <td>Inspiration</td>\n",
       "    </tr>\n",
       "    <tr>\n",
       "      <th>7</th>\n",
       "      <td>0</td>\n",
       "      <td>8</td>\n",
       "      <td>red</td>\n",
       "      <td>Draven</td>\n",
       "      <td>Flash</td>\n",
       "      <td>Heal</td>\n",
       "      <td>True</td>\n",
       "      <td>Conqueror</td>\n",
       "      <td>Triumph</td>\n",
       "      <td>LegendAlacrity</td>\n",
       "      <td>CoupDeGrace</td>\n",
       "      <td>AbsoluteFocus</td>\n",
       "      <td>GatheringStorm</td>\n",
       "      <td>Precision</td>\n",
       "      <td>Sorcery</td>\n",
       "    </tr>\n",
       "    <tr>\n",
       "      <th>8</th>\n",
       "      <td>0</td>\n",
       "      <td>9</td>\n",
       "      <td>red</td>\n",
       "      <td>Poppy</td>\n",
       "      <td>Teleport</td>\n",
       "      <td>Flash</td>\n",
       "      <td>True</td>\n",
       "      <td>GraspOfTheUndying</td>\n",
       "      <td>ShieldBash</td>\n",
       "      <td>BonePlating</td>\n",
       "      <td>Revitalize</td>\n",
       "      <td>BiscuitDelivery</td>\n",
       "      <td>TimeWarpTonic</td>\n",
       "      <td>Resolve</td>\n",
       "      <td>Inspiration</td>\n",
       "    </tr>\n",
       "    <tr>\n",
       "      <th>9</th>\n",
       "      <td>0</td>\n",
       "      <td>10</td>\n",
       "      <td>red</td>\n",
       "      <td>Yasuo</td>\n",
       "      <td>Ignite</td>\n",
       "      <td>Flash</td>\n",
       "      <td>True</td>\n",
       "      <td>Conqueror</td>\n",
       "      <td>Triumph</td>\n",
       "      <td>LegendAlacrity</td>\n",
       "      <td>LastStand</td>\n",
       "      <td>TasteOfBlood</td>\n",
       "      <td>RavenousHunter</td>\n",
       "      <td>Precision</td>\n",
       "      <td>Domination</td>\n",
       "    </tr>\n",
       "    <tr>\n",
       "      <th>10</th>\n",
       "      <td>1</td>\n",
       "      <td>1</td>\n",
       "      <td>blue</td>\n",
       "      <td>Pyke</td>\n",
       "      <td>Flash</td>\n",
       "      <td>Ignite</td>\n",
       "      <td>False</td>\n",
       "      <td>HailOfBlades</td>\n",
       "      <td>CheapShot</td>\n",
       "      <td>EyeballCollection</td>\n",
       "      <td>UltimateHunter</td>\n",
       "      <td>SecondWind</td>\n",
       "      <td>Revitalize</td>\n",
       "      <td>Domination</td>\n",
       "      <td>Resolve</td>\n",
       "    </tr>\n",
       "    <tr>\n",
       "      <th>11</th>\n",
       "      <td>1</td>\n",
       "      <td>2</td>\n",
       "      <td>blue</td>\n",
       "      <td>Aphelios</td>\n",
       "      <td>Flash</td>\n",
       "      <td>Heal</td>\n",
       "      <td>False</td>\n",
       "      <td>PressTheAttack</td>\n",
       "      <td>Triumph</td>\n",
       "      <td>LegendBloodline</td>\n",
       "      <td>CoupDeGrace</td>\n",
       "      <td>MagicalFootwear</td>\n",
       "      <td>BiscuitDelivery</td>\n",
       "      <td>Precision</td>\n",
       "      <td>Inspiration</td>\n",
       "    </tr>\n",
       "  </tbody>\n",
       "</table>\n",
       "</div>"
      ],
      "text/plain": [
       "    gameId  participantId teamId    championId  spell1Id  spell2Id    win  \\\n",
       "0        0              1   blue       Rek'Sai     Flash     Smite  False   \n",
       "1        0              2   blue          Azir  Teleport     Flash  False   \n",
       "2        0              3   blue        Kennen     Flash  Teleport  False   \n",
       "3        0              4   blue  Miss Fortune   Barrier     Flash  False   \n",
       "4        0              5   blue         Yuumi      Heal   Exhaust  False   \n",
       "5        0              6    red        Thresh     Flash    Ignite   True   \n",
       "6        0              7    red          Ekko     Flash     Smite   True   \n",
       "7        0              8    red        Draven     Flash      Heal   True   \n",
       "8        0              9    red         Poppy  Teleport     Flash   True   \n",
       "9        0             10    red         Yasuo    Ignite     Flash   True   \n",
       "10       1              1   blue          Pyke     Flash    Ignite  False   \n",
       "11       1              2   blue      Aphelios     Flash      Heal  False   \n",
       "\n",
       "                perk0           perk1              perk2           perk3  \\\n",
       "0           Conqueror         Triumph     LegendTenacity     CoupDeGrace   \n",
       "1           Conqueror  PresenceOfMind     LegendAlacrity     CoupDeGrace   \n",
       "2           Conqueror  PresenceOfMind     LegendAlacrity     CoupDeGrace   \n",
       "3      PressTheAttack        Overheal    LegendBloodline     CoupDeGrace   \n",
       "4          SummonAery    ManaflowBand      Transcendence  GatheringStorm   \n",
       "5          Aftershock        Demolish         SecondWind      Overgrowth   \n",
       "6         DarkHarvest    SuddenImpact  EyeballCollection  RavenousHunter   \n",
       "7           Conqueror         Triumph     LegendAlacrity     CoupDeGrace   \n",
       "8   GraspOfTheUndying      ShieldBash        BonePlating      Revitalize   \n",
       "9           Conqueror         Triumph     LegendAlacrity       LastStand   \n",
       "10       HailOfBlades       CheapShot  EyeballCollection  UltimateHunter   \n",
       "11     PressTheAttack         Triumph    LegendBloodline     CoupDeGrace   \n",
       "\n",
       "              perk4            perk5 perkPrimaryStyle perkSubStyle  \n",
       "0       NimbusCloak     Waterwalking        Precision      Sorcery  \n",
       "1         GhostPoro   RavenousHunter        Precision   Domination  \n",
       "2      TasteOfBlood   RavenousHunter        Precision   Domination  \n",
       "3       NimbusCloak   GatheringStorm        Precision      Sorcery  \n",
       "4    PresenceOfMind          CutDown          Sorcery    Precision  \n",
       "5   BiscuitDelivery    CosmicInsight          Resolve  Inspiration  \n",
       "6   MagicalFootwear    CosmicInsight       Domination  Inspiration  \n",
       "7     AbsoluteFocus   GatheringStorm        Precision      Sorcery  \n",
       "8   BiscuitDelivery    TimeWarpTonic          Resolve  Inspiration  \n",
       "9      TasteOfBlood   RavenousHunter        Precision   Domination  \n",
       "10       SecondWind       Revitalize       Domination      Resolve  \n",
       "11  MagicalFootwear  BiscuitDelivery        Precision  Inspiration  "
      ]
     },
     "execution_count": 41,
     "metadata": {},
     "output_type": "execute_result"
    }
   ],
   "source": [
    "pregame.head(12)"
   ]
  },
  {
   "cell_type": "markdown",
   "metadata": {},
   "source": [
    "### Aggregating all pregame details for each match"
   ]
  },
  {
   "cell_type": "markdown",
   "metadata": {},
   "source": [
    "### Wins:"
   ]
  },
  {
   "cell_type": "code",
   "execution_count": 42,
   "metadata": {},
   "outputs": [],
   "source": [
    "def win(x):\n",
    "    if x:\n",
    "        return 'blue'\n",
    "    else:\n",
    "        return 'red'\n",
    "pregame.loc[pregame['participantId']==1,'win']=pregame[pregame['participantId']==1]['win'].map(win)"
   ]
  },
  {
   "cell_type": "markdown",
   "metadata": {},
   "source": [
    "### Champions:"
   ]
  },
  {
   "cell_type": "code",
   "execution_count": 43,
   "metadata": {
    "scrolled": true
   },
   "outputs": [
    {
     "name": "stdout",
     "output_type": "stream",
     "text": [
      "0\n",
      "10000\n"
     ]
    }
   ],
   "source": [
    "for game in range(0,len(pregame['gameId'].value_counts())):\n",
    "    for player_num in pregame[pregame['gameId']==game]['participantId']:\n",
    "        if player_num <6:\n",
    "            pregame.loc[(pregame['gameId']==game) & (pregame['participantId']==1),'blue'+'_'+str(player_num)]=pregame[(pregame['gameId']==game)].iloc[player_num-1,3]\n",
    "        else:\n",
    "            pregame.loc[(pregame['gameId']==game) & (pregame['participantId']==1),'red'+'_'+str(player_num)]=pregame[(pregame['gameId']==game)].iloc[player_num-1,3]\n",
    "    if game%1000==0:\n",
    "        print(game)"
   ]
  },
  {
   "cell_type": "markdown",
   "metadata": {},
   "source": [
    "### Perks:"
   ]
  },
  {
   "cell_type": "code",
   "execution_count": 46,
   "metadata": {},
   "outputs": [
    {
     "name": "stdout",
     "output_type": "stream",
     "text": [
      "0\n",
      "1000\n",
      "2000\n",
      "3000\n",
      "4000\n",
      "5000\n",
      "6000\n",
      "7000\n",
      "8000\n",
      "9000\n",
      "10000\n",
      "11000\n",
      "12000\n",
      "13000\n",
      "14000\n",
      "15000\n"
     ]
    }
   ],
   "source": [
    "perk_cols = [col for col in df.columns.tolist() if col.startswith('perk')]\n",
    "for game in range(0,len(pregame['gameId'].value_counts())):\n",
    "    for perk in range(7,15):\n",
    "        for player_num in pregame[pregame['gameId']==game]['participantId']:\n",
    "            if player_num <6:\n",
    "                pregame.loc[(pregame['gameId']==game) & (pregame['participantId']==1),'blue'+'_'+str(player_num)+'_'+pregame.columns[perk]]=pregame[(pregame['gameId']==game)].iloc[player_num-1,perk]\n",
    "            else:\n",
    "                pregame.loc[(pregame['gameId']==game) & (pregame['participantId']==1),'red'+'_'+str(player_num)+'_'+pregame.columns[perk]]=pregame[(pregame['gameId']==game)].iloc[player_num-1,perk]\n",
    "    if game%1000==0:\n",
    "        print(game)"
   ]
  },
  {
   "cell_type": "markdown",
   "metadata": {},
   "source": [
    "### Spells:"
   ]
  },
  {
   "cell_type": "code",
   "execution_count": 47,
   "metadata": {},
   "outputs": [
    {
     "name": "stdout",
     "output_type": "stream",
     "text": [
      "0\n",
      "1000\n",
      "2000\n",
      "3000\n",
      "4000\n",
      "5000\n",
      "6000\n",
      "7000\n",
      "8000\n",
      "9000\n",
      "10000\n",
      "11000\n",
      "12000\n",
      "13000\n",
      "14000\n",
      "15000\n"
     ]
    }
   ],
   "source": [
    "spell_cols = [col for col in df.columns.tolist() if col.startswith('spell')]\n",
    "for game in range(0,len(pregame['gameId'].value_counts())):\n",
    "    for spell in range(4,6):\n",
    "        for player_num in pregame[pregame['gameId']==game]['participantId']:\n",
    "            if player_num <6:\n",
    "                pregame.loc[(pregame['gameId']==game) & (pregame['participantId']==1),'blue'+'_'+str(player_num)+'_'+pregame.columns[spell]]=pregame[(pregame['gameId']==game)].iloc[player_num-1,spell]\n",
    "            else:\n",
    "                pregame.loc[(pregame['gameId']==game) & (pregame['participantId']==1),'red'+'_'+str(player_num)+'_'+pregame.columns[spell]]=pregame[(pregame['gameId']==game)].iloc[player_num-1,spell]\n",
    "    if game%1000==0:\n",
    "        print(game)"
   ]
  },
  {
   "cell_type": "markdown",
   "metadata": {},
   "source": [
    "### Save processed data"
   ]
  },
  {
   "cell_type": "code",
   "execution_count": 48,
   "metadata": {},
   "outputs": [],
   "source": [
    "pregame.to_csv('./processed_data/processed_pregame.csv',index=False)"
   ]
  },
  {
   "cell_type": "markdown",
   "metadata": {},
   "source": [
    "### Removing redundant fields and creating our modeling data"
   ]
  },
  {
   "cell_type": "code",
   "execution_count": 49,
   "metadata": {},
   "outputs": [],
   "source": [
    "processed = pd.read_csv('./processed_data/processed_pregame.csv')\n",
    "processed.dropna(inplace=True)"
   ]
  },
  {
   "cell_type": "code",
   "execution_count": 50,
   "metadata": {},
   "outputs": [],
   "source": [
    "processed.drop(columns=['gameId', 'participantId', 'teamId', 'championId', 'spell1Id',\n",
    "       'spell2Id', 'perk0', 'perk1', 'perk2', 'perk3', 'perk4', 'perk5',\n",
    "       'perkPrimaryStyle', 'perkSubStyle'],inplace=True)"
   ]
  },
  {
   "cell_type": "code",
   "execution_count": 51,
   "metadata": {
    "scrolled": false
   },
   "outputs": [
    {
     "data": {
      "text/html": [
       "<div>\n",
       "<style scoped>\n",
       "    .dataframe tbody tr th:only-of-type {\n",
       "        vertical-align: middle;\n",
       "    }\n",
       "\n",
       "    .dataframe tbody tr th {\n",
       "        vertical-align: top;\n",
       "    }\n",
       "\n",
       "    .dataframe thead th {\n",
       "        text-align: right;\n",
       "    }\n",
       "</style>\n",
       "<table border=\"1\" class=\"dataframe\">\n",
       "  <thead>\n",
       "    <tr style=\"text-align: right;\">\n",
       "      <th></th>\n",
       "      <th>win</th>\n",
       "      <th>blue_1</th>\n",
       "      <th>blue_2</th>\n",
       "      <th>blue_3</th>\n",
       "      <th>blue_4</th>\n",
       "      <th>blue_5</th>\n",
       "      <th>red_6</th>\n",
       "      <th>red_7</th>\n",
       "      <th>red_8</th>\n",
       "      <th>red_9</th>\n",
       "      <th>...</th>\n",
       "      <th>blue_1_spell2Id</th>\n",
       "      <th>blue_2_spell2Id</th>\n",
       "      <th>blue_3_spell2Id</th>\n",
       "      <th>blue_4_spell2Id</th>\n",
       "      <th>blue_5_spell2Id</th>\n",
       "      <th>red_6_spell2Id</th>\n",
       "      <th>red_7_spell2Id</th>\n",
       "      <th>red_8_spell2Id</th>\n",
       "      <th>red_9_spell2Id</th>\n",
       "      <th>red_10_spell2Id</th>\n",
       "    </tr>\n",
       "  </thead>\n",
       "  <tbody>\n",
       "    <tr>\n",
       "      <th>0</th>\n",
       "      <td>red</td>\n",
       "      <td>Rek'Sai</td>\n",
       "      <td>Azir</td>\n",
       "      <td>Kennen</td>\n",
       "      <td>Miss Fortune</td>\n",
       "      <td>Yuumi</td>\n",
       "      <td>Thresh</td>\n",
       "      <td>Ekko</td>\n",
       "      <td>Draven</td>\n",
       "      <td>Poppy</td>\n",
       "      <td>...</td>\n",
       "      <td>Smite</td>\n",
       "      <td>Flash</td>\n",
       "      <td>Teleport</td>\n",
       "      <td>Flash</td>\n",
       "      <td>Exhaust</td>\n",
       "      <td>Ignite</td>\n",
       "      <td>Smite</td>\n",
       "      <td>Heal</td>\n",
       "      <td>Flash</td>\n",
       "      <td>Flash</td>\n",
       "    </tr>\n",
       "    <tr>\n",
       "      <th>10</th>\n",
       "      <td>red</td>\n",
       "      <td>Pyke</td>\n",
       "      <td>Aphelios</td>\n",
       "      <td>Kled</td>\n",
       "      <td>Gragas</td>\n",
       "      <td>Bard</td>\n",
       "      <td>Gnar</td>\n",
       "      <td>Senna</td>\n",
       "      <td>Ekko</td>\n",
       "      <td>Draven</td>\n",
       "      <td>...</td>\n",
       "      <td>Ignite</td>\n",
       "      <td>Heal</td>\n",
       "      <td>Teleport</td>\n",
       "      <td>Smite</td>\n",
       "      <td>Flash</td>\n",
       "      <td>Flash</td>\n",
       "      <td>Ignite</td>\n",
       "      <td>Ignite</td>\n",
       "      <td>Heal</td>\n",
       "      <td>Smite</td>\n",
       "    </tr>\n",
       "    <tr>\n",
       "      <th>20</th>\n",
       "      <td>red</td>\n",
       "      <td>Fiora</td>\n",
       "      <td>Dr. Mundo</td>\n",
       "      <td>Thresh</td>\n",
       "      <td>Jinx</td>\n",
       "      <td>Diana</td>\n",
       "      <td>Nami</td>\n",
       "      <td>Amumu</td>\n",
       "      <td>Kassadin</td>\n",
       "      <td>Ezreal</td>\n",
       "      <td>...</td>\n",
       "      <td>Flash</td>\n",
       "      <td>Flash</td>\n",
       "      <td>Ignite</td>\n",
       "      <td>Heal</td>\n",
       "      <td>Teleport</td>\n",
       "      <td>Exhaust</td>\n",
       "      <td>Flash</td>\n",
       "      <td>Teleport</td>\n",
       "      <td>Teleport</td>\n",
       "      <td>Flash</td>\n",
       "    </tr>\n",
       "    <tr>\n",
       "      <th>30</th>\n",
       "      <td>red</td>\n",
       "      <td>Blitzcrank</td>\n",
       "      <td>Ornn</td>\n",
       "      <td>Miss Fortune</td>\n",
       "      <td>Pyke</td>\n",
       "      <td>Kha'Zix</td>\n",
       "      <td>Elise</td>\n",
       "      <td>Thresh</td>\n",
       "      <td>Ekko</td>\n",
       "      <td>Draven</td>\n",
       "      <td>...</td>\n",
       "      <td>Ignite</td>\n",
       "      <td>Flash</td>\n",
       "      <td>Heal</td>\n",
       "      <td>Ignite</td>\n",
       "      <td>Flash</td>\n",
       "      <td>Smite</td>\n",
       "      <td>Ignite</td>\n",
       "      <td>Ignite</td>\n",
       "      <td>Heal</td>\n",
       "      <td>Teleport</td>\n",
       "    </tr>\n",
       "    <tr>\n",
       "      <th>40</th>\n",
       "      <td>red</td>\n",
       "      <td>Olaf</td>\n",
       "      <td>Kennen</td>\n",
       "      <td>Ornn</td>\n",
       "      <td>Miss Fortune</td>\n",
       "      <td>Thresh</td>\n",
       "      <td>Nunu &amp; Willump</td>\n",
       "      <td>Ekko</td>\n",
       "      <td>Draven</td>\n",
       "      <td>Blitzcrank</td>\n",
       "      <td>...</td>\n",
       "      <td>Flash</td>\n",
       "      <td>Ignite</td>\n",
       "      <td>Flash</td>\n",
       "      <td>Heal</td>\n",
       "      <td>Ignite</td>\n",
       "      <td>Smite</td>\n",
       "      <td>Ignite</td>\n",
       "      <td>Heal</td>\n",
       "      <td>Ignite</td>\n",
       "      <td>Flash</td>\n",
       "    </tr>\n",
       "    <tr>\n",
       "      <th>...</th>\n",
       "      <td>...</td>\n",
       "      <td>...</td>\n",
       "      <td>...</td>\n",
       "      <td>...</td>\n",
       "      <td>...</td>\n",
       "      <td>...</td>\n",
       "      <td>...</td>\n",
       "      <td>...</td>\n",
       "      <td>...</td>\n",
       "      <td>...</td>\n",
       "      <td>...</td>\n",
       "      <td>...</td>\n",
       "      <td>...</td>\n",
       "      <td>...</td>\n",
       "      <td>...</td>\n",
       "      <td>...</td>\n",
       "      <td>...</td>\n",
       "      <td>...</td>\n",
       "      <td>...</td>\n",
       "      <td>...</td>\n",
       "      <td>...</td>\n",
       "    </tr>\n",
       "    <tr>\n",
       "      <th>158590</th>\n",
       "      <td>red</td>\n",
       "      <td>Tryndamere</td>\n",
       "      <td>Tristana</td>\n",
       "      <td>Lee Sin</td>\n",
       "      <td>Rumble</td>\n",
       "      <td>Leona</td>\n",
       "      <td>Irelia</td>\n",
       "      <td>Aphelios</td>\n",
       "      <td>Jax</td>\n",
       "      <td>Janna</td>\n",
       "      <td>...</td>\n",
       "      <td>Flash</td>\n",
       "      <td>Flash</td>\n",
       "      <td>Flash</td>\n",
       "      <td>Flash</td>\n",
       "      <td>Flash</td>\n",
       "      <td>Ignite</td>\n",
       "      <td>Heal</td>\n",
       "      <td>Flash</td>\n",
       "      <td>Heal</td>\n",
       "      <td>Teleport</td>\n",
       "    </tr>\n",
       "    <tr>\n",
       "      <th>158600</th>\n",
       "      <td>red</td>\n",
       "      <td>Jarvan IV</td>\n",
       "      <td>Alistar</td>\n",
       "      <td>Sona</td>\n",
       "      <td>Brand</td>\n",
       "      <td>Senna</td>\n",
       "      <td>Aphelios</td>\n",
       "      <td>Nautilus</td>\n",
       "      <td>Xin Zhao</td>\n",
       "      <td>LeBlanc</td>\n",
       "      <td>...</td>\n",
       "      <td>Smite</td>\n",
       "      <td>Flash</td>\n",
       "      <td>Ignite</td>\n",
       "      <td>Flash</td>\n",
       "      <td>Heal</td>\n",
       "      <td>Flash</td>\n",
       "      <td>Ignite</td>\n",
       "      <td>Smite</td>\n",
       "      <td>Ignite</td>\n",
       "      <td>Teleport</td>\n",
       "    </tr>\n",
       "    <tr>\n",
       "      <th>158610</th>\n",
       "      <td>red</td>\n",
       "      <td>Ornn</td>\n",
       "      <td>Miss Fortune</td>\n",
       "      <td>Maokai</td>\n",
       "      <td>Lissandra</td>\n",
       "      <td>Nocturne</td>\n",
       "      <td>Braum</td>\n",
       "      <td>Veigar</td>\n",
       "      <td>Lucian</td>\n",
       "      <td>Soraka</td>\n",
       "      <td>...</td>\n",
       "      <td>Smite</td>\n",
       "      <td>Heal</td>\n",
       "      <td>Flash</td>\n",
       "      <td>Teleport</td>\n",
       "      <td>Teleport</td>\n",
       "      <td>Flash</td>\n",
       "      <td>Teleport</td>\n",
       "      <td>Teleport</td>\n",
       "      <td>Flash</td>\n",
       "      <td>Smite</td>\n",
       "    </tr>\n",
       "    <tr>\n",
       "      <th>158620</th>\n",
       "      <td>blue</td>\n",
       "      <td>Sett</td>\n",
       "      <td>Fizz</td>\n",
       "      <td>Rek'Sai</td>\n",
       "      <td>Brand</td>\n",
       "      <td>Soraka</td>\n",
       "      <td>Pyke</td>\n",
       "      <td>Olaf</td>\n",
       "      <td>Katarina</td>\n",
       "      <td>Mordekaiser</td>\n",
       "      <td>...</td>\n",
       "      <td>Teleport</td>\n",
       "      <td>Ignite</td>\n",
       "      <td>Flash</td>\n",
       "      <td>Ignite</td>\n",
       "      <td>Heal</td>\n",
       "      <td>Flash</td>\n",
       "      <td>Smite</td>\n",
       "      <td>Ignite</td>\n",
       "      <td>Flash</td>\n",
       "      <td>Exhaust</td>\n",
       "    </tr>\n",
       "    <tr>\n",
       "      <th>158630</th>\n",
       "      <td>blue</td>\n",
       "      <td>Tristana</td>\n",
       "      <td>Sett</td>\n",
       "      <td>Cassiopeia</td>\n",
       "      <td>Olaf</td>\n",
       "      <td>Maokai</td>\n",
       "      <td>Syndra</td>\n",
       "      <td>Soraka</td>\n",
       "      <td>Aatrox</td>\n",
       "      <td>Veigar</td>\n",
       "      <td>...</td>\n",
       "      <td>Flash</td>\n",
       "      <td>Teleport</td>\n",
       "      <td>Barrier</td>\n",
       "      <td>Flash</td>\n",
       "      <td>Ignite</td>\n",
       "      <td>Flash</td>\n",
       "      <td>Flash</td>\n",
       "      <td>Teleport</td>\n",
       "      <td>Flash</td>\n",
       "      <td>Smite</td>\n",
       "    </tr>\n",
       "  </tbody>\n",
       "</table>\n",
       "<p>15849 rows × 111 columns</p>\n",
       "</div>"
      ],
      "text/plain": [
       "         win      blue_1        blue_2        blue_3        blue_4    blue_5  \\\n",
       "0        red     Rek'Sai          Azir        Kennen  Miss Fortune     Yuumi   \n",
       "10       red        Pyke      Aphelios          Kled        Gragas      Bard   \n",
       "20       red       Fiora     Dr. Mundo        Thresh          Jinx     Diana   \n",
       "30       red  Blitzcrank          Ornn  Miss Fortune          Pyke   Kha'Zix   \n",
       "40       red        Olaf        Kennen          Ornn  Miss Fortune    Thresh   \n",
       "...      ...         ...           ...           ...           ...       ...   \n",
       "158590   red  Tryndamere      Tristana       Lee Sin        Rumble     Leona   \n",
       "158600   red   Jarvan IV       Alistar          Sona         Brand     Senna   \n",
       "158610   red        Ornn  Miss Fortune        Maokai     Lissandra  Nocturne   \n",
       "158620  blue        Sett          Fizz       Rek'Sai         Brand    Soraka   \n",
       "158630  blue    Tristana          Sett    Cassiopeia          Olaf    Maokai   \n",
       "\n",
       "                 red_6     red_7     red_8        red_9  ... blue_1_spell2Id  \\\n",
       "0               Thresh      Ekko    Draven        Poppy  ...           Smite   \n",
       "10                Gnar     Senna      Ekko       Draven  ...          Ignite   \n",
       "20                Nami     Amumu  Kassadin       Ezreal  ...           Flash   \n",
       "30               Elise    Thresh      Ekko       Draven  ...          Ignite   \n",
       "40      Nunu & Willump      Ekko    Draven   Blitzcrank  ...           Flash   \n",
       "...                ...       ...       ...          ...  ...             ...   \n",
       "158590          Irelia  Aphelios       Jax        Janna  ...           Flash   \n",
       "158600        Aphelios  Nautilus  Xin Zhao      LeBlanc  ...           Smite   \n",
       "158610           Braum    Veigar    Lucian       Soraka  ...           Smite   \n",
       "158620            Pyke      Olaf  Katarina  Mordekaiser  ...        Teleport   \n",
       "158630          Syndra    Soraka    Aatrox       Veigar  ...           Flash   \n",
       "\n",
       "       blue_2_spell2Id blue_3_spell2Id blue_4_spell2Id blue_5_spell2Id  \\\n",
       "0                Flash        Teleport           Flash         Exhaust   \n",
       "10                Heal        Teleport           Smite           Flash   \n",
       "20               Flash          Ignite            Heal        Teleport   \n",
       "30               Flash            Heal          Ignite           Flash   \n",
       "40              Ignite           Flash            Heal          Ignite   \n",
       "...                ...             ...             ...             ...   \n",
       "158590           Flash           Flash           Flash           Flash   \n",
       "158600           Flash          Ignite           Flash            Heal   \n",
       "158610            Heal           Flash        Teleport        Teleport   \n",
       "158620          Ignite           Flash          Ignite            Heal   \n",
       "158630        Teleport         Barrier           Flash          Ignite   \n",
       "\n",
       "       red_6_spell2Id red_7_spell2Id red_8_spell2Id red_9_spell2Id  \\\n",
       "0              Ignite          Smite           Heal          Flash   \n",
       "10              Flash         Ignite         Ignite           Heal   \n",
       "20            Exhaust          Flash       Teleport       Teleport   \n",
       "30              Smite         Ignite         Ignite           Heal   \n",
       "40              Smite         Ignite           Heal         Ignite   \n",
       "...               ...            ...            ...            ...   \n",
       "158590         Ignite           Heal          Flash           Heal   \n",
       "158600          Flash         Ignite          Smite         Ignite   \n",
       "158610          Flash       Teleport       Teleport          Flash   \n",
       "158620          Flash          Smite         Ignite          Flash   \n",
       "158630          Flash          Flash       Teleport          Flash   \n",
       "\n",
       "       red_10_spell2Id  \n",
       "0                Flash  \n",
       "10               Smite  \n",
       "20               Flash  \n",
       "30            Teleport  \n",
       "40               Flash  \n",
       "...                ...  \n",
       "158590        Teleport  \n",
       "158600        Teleport  \n",
       "158610           Smite  \n",
       "158620         Exhaust  \n",
       "158630           Smite  \n",
       "\n",
       "[15849 rows x 111 columns]"
      ]
     },
     "execution_count": 51,
     "metadata": {},
     "output_type": "execute_result"
    }
   ],
   "source": [
    "processed"
   ]
  },
  {
   "cell_type": "code",
   "execution_count": 55,
   "metadata": {},
   "outputs": [],
   "source": [
    "processed = pd.get_dummies(processed).drop(columns='win_red')"
   ]
  },
  {
   "cell_type": "code",
   "execution_count": 82,
   "metadata": {},
   "outputs": [],
   "source": [
    "processed.to_csv('./model_data/model_data.csv',index=False)"
   ]
  }
 ],
 "metadata": {
  "kernelspec": {
   "display_name": "Python 3",
   "language": "python",
   "name": "python3"
  },
  "language_info": {
   "codemirror_mode": {
    "name": "ipython",
    "version": 3
   },
   "file_extension": ".py",
   "mimetype": "text/x-python",
   "name": "python",
   "nbconvert_exporter": "python",
   "pygments_lexer": "ipython3",
   "version": "3.7.4"
  }
 },
 "nbformat": 4,
 "nbformat_minor": 2
}
