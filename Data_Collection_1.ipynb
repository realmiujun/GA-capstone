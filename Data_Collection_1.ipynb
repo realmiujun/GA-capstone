{
 "cells": [
  {
   "cell_type": "markdown",
   "metadata": {},
   "source": [
    "# RiotGames League of Legends API"
   ]
  },
  {
   "cell_type": "code",
   "execution_count": 1,
   "metadata": {},
   "outputs": [],
   "source": [
    "import pandas as pd\n",
    "import requests\n",
    "import time"
   ]
  },
  {
   "cell_type": "code",
   "execution_count": 2,
   "metadata": {},
   "outputs": [],
   "source": [
    "api = ''"
   ]
  },
  {
   "cell_type": "markdown",
   "metadata": {},
   "source": [
    "### Brief description of RiotGames' API\n",
    "---\n",
    "Our dataset goal is to collect all details pertaining to each match where all players ranked \"Diamond I\" and higher have participated in.  Unfortunately for us, RiotGames does not have a trivial solution to retrieving all matches.  Our data retrieval takes the following steps: \n",
    "* Search for players within our targetted ranks.\n",
    "* Use the player names to retrieve their encrypted account ID.\n",
    "* Use the encrypted account IDs to retrieve their match IDs.\n",
    "* Use the match IDs to retrieve each respective match's details."
   ]
  },
  {
   "cell_type": "code",
   "execution_count": 3,
   "metadata": {},
   "outputs": [],
   "source": [
    "#Get top players in NA server\n",
    "tier = ['CHALLENGER/I','GRANDMASTER/I','MASTER/I','DIAMOND/I']\n",
    "collection = []\n",
    "for i in tier:\n",
    "    url = 'https://na1.api.riotgames.com/lol/league-exp/v4/entries/RANKED_SOLO_5x5/' +i+ '?api_key='+api\n",
    "    res = requests.get(url)\n",
    "    collection += res.json()\n",
    "    time.sleep(45)\n",
    "df = pd.DataFrame(collection)\n",
    "df.to_csv('./leaguedata/higher_elo_players_1.csv',index=False)"
   ]
  },
  {
   "cell_type": "code",
   "execution_count": 4,
   "metadata": {},
   "outputs": [],
   "source": [
    "#search player names to retrieve encrypted id\n",
    "get_encrypted_id = []\n",
    "for name in df['summonerName']:\n",
    "    new_url = 'https://na1.api.riotgames.com/lol/summoner/v4/summoners/by-name/'+name+'?api_key='+api\n",
    "    res = requests.get(new_url)\n",
    "    get_encrypted_id.append(res.json())\n",
    "    time.sleep(1)\n",
    "encrypted_id = pd.DataFrame(get_encrypted_id)\n",
    "encrypted_id.to_csv('./leaguedata/player_profiles_2.csv',index=False)"
   ]
  },
  {
   "cell_type": "code",
   "execution_count": 5,
   "metadata": {},
   "outputs": [],
   "source": [
    "#search encrypted id for match id\n",
    "get_match = []\n",
    "for enc_id in encrypted_id['accountId']:\n",
    "    url = 'https://na1.api.riotgames.com/lol/match/v4/matchlists/by-account/'+str(enc_id)+'?api_key='+api\n",
    "    res = requests.get(url)\n",
    "    try:\n",
    "        get_match+=res.json()['matches']\n",
    "    except:\n",
    "        pass\n",
    "    time.sleep(1)\n",
    "matches = pd.DataFrame(get_match)\n",
    "matches.to_csv('./leaguedata/match_id_3.csv',index=False)"
   ]
  },
  {
   "cell_type": "code",
   "execution_count": 6,
   "metadata": {},
   "outputs": [],
   "source": [
    "# There are duplicates in match id\n",
    "no_dupe_matches = matches[~(matches['gameId'].duplicated())]\n",
    "# We only want ranked matches!\n",
    "no_dupe_matches = matches[matches['queue']==420]\n",
    "no_dupe_matches.to_csv('./leaguedata/no_dupe_matches_4.csv',index=False)"
   ]
  },
  {
   "cell_type": "code",
   "execution_count": 41,
   "metadata": {},
   "outputs": [],
   "source": [
    "no_dupe_matches = pd.read_csv('./leaguedata/no_dupe_matches_4.csv')"
   ]
  },
  {
   "cell_type": "code",
   "execution_count": 43,
   "metadata": {},
   "outputs": [],
   "source": [
    "no_dupe_matches = no_dupe_matches[:40000]"
   ]
  },
  {
   "cell_type": "code",
   "execution_count": 45,
   "metadata": {},
   "outputs": [],
   "source": [
    "#search match id to get match details\n",
    "get_participant_details = []\n",
    "get_teams_details = []\n",
    "get_version_details = []\n",
    "get_season_details = []\n",
    "\n",
    "for game in no_dupe_matches['gameId']:\n",
    "    url = 'https://na1.api.riotgames.com/lol/match/v4/matches/'+str(game)+'?api_key='+api\n",
    "    res = requests.get(url)\n",
    "    try:\n",
    "        get_participant_details+=res.json()['participants']\n",
    "        get_teams_details+=res.json()['teams']\n",
    "        get_version_details.append(res.json()['gameVersion'])\n",
    "        get_season_details.append(res.json()['seasonId'])\n",
    "    except:\n",
    "        pass\n",
    "    time.sleep(2)\n",
    "       \n",
    "    \n",
    "player_stats = pd.concat([pd.DataFrame(get_participant_details).drop(columns = ['stats','timeline']),\n",
    "                     pd.DataFrame(pd.DataFrame(get_participant_details)['stats'].tolist())],axis=1)\n",
    "player_stats = pd.concat([player_stats,pd.DataFrame(pd.DataFrame(get_participant_details)['timeline'].tolist())],axis=1)\n",
    "player_stats.to_csv('./leaguedata/player_stats_5a.csv',index=False)\n",
    "game_version = pd.DataFrame(get_version_details)\n",
    "game_version.to_csv('./leaguedata/game_version_5b.csv',index=False)\n",
    "team_details = pd.DataFrame(get_teams_details)\n",
    "team_details.to_csv('./leaguedata/team_details_5c.csv',index=False)\n",
    "season_details = pd.DataFrame(get_season_details)\n",
    "season_details.to_csv('./leaguedata/season_details_5d.csv',index=False)"
   ]
  },
  {
   "cell_type": "code",
   "execution_count": null,
   "metadata": {},
   "outputs": [],
   "source": []
  }
 ],
 "metadata": {
  "kernelspec": {
   "display_name": "Python 3",
   "language": "python",
   "name": "python3"
  },
  "language_info": {
   "codemirror_mode": {
    "name": "ipython",
    "version": 3
   },
   "file_extension": ".py",
   "mimetype": "text/x-python",
   "name": "python",
   "nbconvert_exporter": "python",
   "pygments_lexer": "ipython3",
   "version": "3.7.4"
  }
 },
 "nbformat": 4,
 "nbformat_minor": 2
}
