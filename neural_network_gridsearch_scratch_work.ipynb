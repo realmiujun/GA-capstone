{
 "cells": [
  {
   "cell_type": "code",
   "execution_count": 1,
   "metadata": {},
   "outputs": [
    {
     "name": "stderr",
     "output_type": "stream",
     "text": [
      "Using TensorFlow backend.\n"
     ]
    }
   ],
   "source": [
    "import pandas as pd\n",
    "from sklearn.model_selection import train_test_split,GridSearchCV\n",
    "from sklearn.linear_model import LogisticRegression\n",
    "from sklearn.pipeline import Pipeline\n",
    "import matplotlib.pyplot as plt\n",
    "from sklearn.ensemble import RandomForestClassifier,GradientBoostingClassifier,AdaBoostClassifier,VotingClassifier\n",
    "from sklearn.naive_bayes import BernoulliNB\n",
    "from sklearn.svm import SVC\n",
    "from keras.models import Sequential\n",
    "from keras.layers import Dense,Dropout\n",
    "from tensorflow.keras.wrappers.scikit_learn import KerasRegressor\n",
    "from keras import regularizers\n",
    "from sklearn.metrics import f1_score\n",
    "import numpy as np\n",
    "import time\n",
    "import pickle"
   ]
  },
  {
   "cell_type": "code",
   "execution_count": 2,
   "metadata": {},
   "outputs": [],
   "source": [
    "df = pd.read_csv('./model_data/model_data_fb.csv')\n",
    "X = df.drop(columns='firstblood_blue')\n",
    "y = df['firstblood_blue']\n",
    "X_train,X_test,y_train,y_test = train_test_split(X,y,random_state=8)"
   ]
  },
  {
   "cell_type": "code",
   "execution_count": 3,
   "metadata": {},
   "outputs": [
    {
     "name": "stdout",
     "output_type": "stream",
     "text": [
      "-0.8263047145068114\n"
     ]
    },
    {
     "data": {
      "text/plain": [
       "{'epochs': 10,\n",
       " 'layer_one_dropout': 0.3,\n",
       " 'layer_one_neurons': 36,\n",
       " 'layer_three_neurons': 15,\n",
       " 'layer_two_dropout': 0.4,\n",
       " 'layer_two_neurons': 24}"
      ]
     },
     "execution_count": 3,
     "metadata": {},
     "output_type": "execute_result"
    }
   ],
   "source": [
    "def model_func(layer_one_neurons=32, layer_one_dropout=.2, layer_two_neurons=32,layer_two_dropout=20,layer_three_neurons=20):\n",
    "    # print('layer_one_neurons', layer_one_neurons)\n",
    "    model = Sequential()\n",
    "    model.add(Dense(layer_one_neurons, activation='relu', input_dim=X_train.shape[1],kernel_regularizer=regularizers.l2()))\n",
    "    model.add(Dropout(layer_one_dropout))\n",
    "    model.add(Dense(layer_two_neurons, activation='relu',kernel_regularizer=regularizers.l2()))\n",
    "    model.add(Dropout(layer_two_dropout))\n",
    "    model.add(Dense(layer_three_neurons, activation='relu',kernel_regularizer=regularizers.l2()))\n",
    "    model.add(Dense(1, activation='sigmoid'))\n",
    "    model.compile(loss='binary_crossentropy', optimizer='adam',metrics=['acc'])\n",
    "    return model\n",
    "nn = KerasRegressor(build_fn=model_func, batch_size=512, verbose=0)\n",
    "params = {\n",
    "    'epochs': [10],\n",
    "    'layer_one_neurons': [30,34,36],\n",
    "    'layer_two_neurons': [24,26,28],\n",
    "    'layer_three_neurons': [20,25,15],\n",
    "    'layer_one_dropout': [.3,.35,.4],\n",
    "    'layer_two_dropout': [.3,.35,.4]\n",
    "}\n",
    "gs = GridSearchCV(nn, param_grid=params, cv=2)\n",
    "gs.fit(X_train, y_train)\n",
    "print(gs.best_score_)\n",
    "gs.best_params_"
   ]
  },
  {
   "cell_type": "code",
   "execution_count": 6,
   "metadata": {},
   "outputs": [
    {
     "data": {
      "image/png": "[encoded data removed]",
      "text/plain": [
       "<Figure size 720x504 with 1 Axes>"
      ]
     },
     "metadata": {
      "needs_background": "dark"
     },
     "output_type": "display_data"
    }
   ],
   "source": [
    "pred_proba = [i for i in gs.best_estimator_.predict(X_test)]\n",
    "pred_df = pd.DataFrame({'true_values': y_test,\n",
    "                        'pred_probs':pred_proba})\n",
    "# Create figure.\n",
    "plt.figure(figsize = (10,7))\n",
    "\n",
    "# Create two histograms of observations.\n",
    "plt.hist(pred_df[pred_df['true_values'] == 0]['pred_probs'],\n",
    "         bins = 25,\n",
    "         color = 'r',\n",
    "         alpha = 0.6,\n",
    "         label = 'Outcome = Red')\n",
    "plt.hist(pred_df[pred_df['true_values'] == 1]['pred_probs'],\n",
    "         bins = 25,\n",
    "         color = 'b',\n",
    "         alpha = 0.6,\n",
    "         label = 'Outcome = Blue')\n",
    "plt.vlines(x=.5,\n",
    "          ymin=0,\n",
    "          ymax=25,\n",
    "          color='grey',\n",
    "          linestyle='dashdot')\n",
    "\n",
    "# Label axes.\n",
    "plt.title('Distribution of P(Outcome = Blue win)', fontsize = 22,color='white')\n",
    "plt.ylabel('Frequency', fontsize = 18,color='white')\n",
    "plt.xlabel('Predicted Probability that Outcome = Blue win', fontsize = 18,color = 'white')\n",
    "plt.tick_params(axis='x', colors='white')\n",
    "plt.tick_params(axis='y', colors='white')\n",
    "# Create legend.\n",
    "plt.legend(fontsize = 20);\n",
    "#Thank you Matt for the code from our lecture!\n",
    "#plt.savefig('log_plot.png');"
   ]
  }
 ],
 "metadata": {
  "kernelspec": {
   "display_name": "Python 3",
   "language": "python",
   "name": "python3"
  },
  "language_info": {
   "codemirror_mode": {
    "name": "ipython",
    "version": 3
   },
   "file_extension": ".py",
   "mimetype": "text/x-python",
   "name": "python",
   "nbconvert_exporter": "python",
   "pygments_lexer": "ipython3",
   "version": "3.7.4"
  }
 },
 "nbformat": 4,
 "nbformat_minor": 2
}
